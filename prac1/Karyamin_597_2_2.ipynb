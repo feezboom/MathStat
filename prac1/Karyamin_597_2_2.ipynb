{
 "cells": [
  {
   "cell_type": "code",
   "execution_count": 7,
   "metadata": {
    "collapsed": false
   },
   "outputs": [],
   "source": [
    "import pandas as pd\n",
    "import numpy as np\n",
    "import scipy.stats as sps\n",
    "\n",
    "inputCauchyData = pd.read_csv('cauchy.txt');\n",
    "selection = np.array(inputCauchyData)\n",
    "N = len(selection)        \n",
    "\n",
    "our_x0_span = np.arange(-1000, 1000.01, 0.01);\n",
    "\n",
    "# Параметр масштаба тета - единичный.\n",
    "theta = 1\n",
    "\n",
    "# Ищем мы параметр сдвига - x0\n",
    "theBestX0 = our_x0_span[0];\n",
    "\n",
    "# Максимум логарифма функции правдоподобия.\n",
    "ourMax = -np.inf;"
   ]
  },
  {
   "cell_type": "code",
   "execution_count": 8,
   "metadata": {
    "collapsed": false
   },
   "outputs": [
    {
     "name": "stdout",
     "output_type": "stream",
     "text": [
      "-212.470000001\n",
      "-212.424257813\n"
     ]
    },
    {
     "name": "stderr",
     "output_type": "stream",
     "text": [
      "/opt/anaconda3/lib/python3.5/site-packages/ipykernel/__main__.py:4: DeprecationWarning: using a non-integer number instead of an integer will result in an error in the future\n"
     ]
    }
   ],
   "source": [
    "# Для половины выборки\n",
    "for x0 in our_x0_span:\n",
    "    cauchy_x0 = sps.cauchy(x0, theta);\n",
    "    candidate = np.sum(cauchy_x0.logpdf(selection[:N/2]));\n",
    "    if (candidate > ourMax) :\n",
    "        ourMax = candidate;\n",
    "        theBestX0 = x0;\n",
    "        \n",
    "print (theBestX0)\n",
    "print(selection.mean())"
   ]
  },
  {
   "cell_type": "markdown",
   "metadata": {
    "collapsed": true
   },
   "source": [
    "Результат близкий к среднему значению, т.к. Распределение Коши симметрично относительно x0. X0 - матожидание."
   ]
  },
  {
   "cell_type": "code",
   "execution_count": 9,
   "metadata": {
    "collapsed": false
   },
   "outputs": [
    {
     "name": "stdout",
     "output_type": "stream",
     "text": [
      "-212.470000001\n",
      "-212.424257813\n"
     ]
    }
   ],
   "source": [
    "# Теперь для всей выборки.\n",
    "for x0 in our_x0_span:\n",
    "    cauchy_x0 = sps.cauchy(x0, theta);\n",
    "    candidate = np.sum(cauchy_x0.logpdf(selection[:N]));\n",
    "    if (candidate > ourMax) :\n",
    "        ourMax = candidate;\n",
    "        theBestX0 = x0;\n",
    "        \n",
    "print (theBestX0)\n",
    "print(selection.mean())"
   ]
  },
  {
   "cell_type": "markdown",
   "metadata": {
    "collapsed": true
   },
   "source": [
    "Идентичный результат для всей выборки. Можно сделать вывод, что достаточно смотреть на половину, чтобы достаточно точно оценить x0."
   ]
  },
  {
   "cell_type": "code",
   "execution_count": 10,
   "metadata": {
    "collapsed": false
   },
   "outputs": [],
   "source": [
    "class weibull_gen(sps.rv_continuous):\n",
    "    def _cdf(self, x, gamma):\n",
    "        return 1 - np.exp(-x ** gamma)\n",
    "    \n",
    "weibull = weibull_gen(a=0, name=\"weibull\")\n",
    "\n",
    "inputWeibullData = pd.read_csv('Weibull.txt')\n",
    "selection = np.array(inputWeibullData);\n",
    "\n",
    "ourLeftEdge = -2;\n",
    "ourRightEdge = 2;\n",
    "log_gamma_span = np.arange(-2, 2, 0.001);\n",
    "\n",
    "neededGamma = -np.inf;\n",
    "local_max = -np.inf;"
   ]
  },
  {
   "cell_type": "code",
   "execution_count": 11,
   "metadata": {
    "collapsed": false
   },
   "outputs": [
    {
     "name": "stdout",
     "output_type": "stream",
     "text": [
      "1.71433900943\n"
     ]
    }
   ],
   "source": [
    "# По четырём годам\n",
    "N = 4 * 365;\n",
    "for log_gamma in log_gamma_span :\n",
    "    gamma = log_gamma ** 10;\n",
    "    lg_lh_foo = np.sum(weibull.logpdf(selection[:N], gamma));\n",
    "    if (local_max < lg_lh_foo) :\n",
    "        local_max = lg_lh_foo;\n",
    "        neededGamma = gamma;\n",
    "print(np.log10(neededGamma));"
   ]
  },
  {
   "cell_type": "markdown",
   "metadata": {
    "collapsed": true
   },
   "source": [
    "Log(gamma) основываясь на 4 годах"
   ]
  },
  {
   "cell_type": "code",
   "execution_count": 12,
   "metadata": {
    "collapsed": false
   },
   "outputs": [
    {
     "name": "stdout",
     "output_type": "stream",
     "text": [
      "1.71726453653\n"
     ]
    }
   ],
   "source": [
    "# По за всё время.\n",
    "N = 10 * 365;\n",
    "for log_gamma in log_gamma_span :\n",
    "    gamma = log_gamma ** 10;\n",
    "    lg_lh_foo = np.sum(weibull.logpdf(selection[:N], gamma));\n",
    "    if (local_max < lg_lh_foo) :\n",
    "        local_max = lg_lh_foo;\n",
    "        neededGamma = gamma;\n",
    "print(np.log10(neededGamma));"
   ]
  },
  {
   "cell_type": "markdown",
   "metadata": {},
   "source": [
    "Полученное значение log(gamma) с 40 процентов выборки обладает высокой точностью. Значит чтобы посчитать его, не нужно даже смотреть на всю выборку."
   ]
  },
  {
   "cell_type": "code",
   "execution_count": null,
   "metadata": {
    "collapsed": true
   },
   "outputs": [],
   "source": []
  }
 ],
 "metadata": {
  "kernelspec": {
   "display_name": "Python 3",
   "language": "python",
   "name": "python3"
  },
  "language_info": {
   "codemirror_mode": {
    "name": "ipython",
    "version": 3
   },
   "file_extension": ".py",
   "mimetype": "text/x-python",
   "name": "python",
   "nbconvert_exporter": "python",
   "pygments_lexer": "ipython3",
   "version": "3.5.1"
  }
 },
 "nbformat": 4,
 "nbformat_minor": 0
}
