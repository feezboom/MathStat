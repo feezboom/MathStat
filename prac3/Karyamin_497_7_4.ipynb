{
 "cells": [
  {
   "cell_type": "code",
   "execution_count": 19,
   "metadata": {
    "collapsed": true
   },
   "outputs": [],
   "source": [
    "import scipy.stats as sps\n",
    "import numpy as np\n",
    "import matplotlib.pyplot as plt\n",
    "import pandas as pd\n",
    "%matplotlib inline"
   ]
  },
  {
   "cell_type": "markdown",
   "metadata": {},
   "source": [
    "### Адаптировать задачу из предыдущего раздела (УМО II) для случая, когда параметр λ неизвестен, и его нужно оценивать (даже в начале при отсутствии информации) по мере поступления новой информации (с помощью байесовской оценки"
   ]
  },
  {
   "cell_type": "code",
   "execution_count": 23,
   "metadata": {
    "collapsed": false
   },
   "outputs": [],
   "source": [
    "data = np.loadtxt('6_1.txt')"
   ]
  },
  {
   "cell_type": "markdown",
   "metadata": {},
   "source": [
    "### Посчитаем среднее время между ближайшими поломками"
   ]
  },
  {
   "cell_type": "code",
   "execution_count": 49,
   "metadata": {
    "collapsed": false
   },
   "outputs": [],
   "source": [
    "Xi = data[1:] - data[:-1]\n",
    "mean = Xi.mean()"
   ]
  },
  {
   "cell_type": "markdown",
   "metadata": {},
   "source": [
    "### Оценим лямбду тупо из выборочного среднего (т.к. матожидание - 1/$\\lambda$)"
   ]
  },
  {
   "cell_type": "markdown",
   "metadata": {},
   "source": [
    "# $=>$ $\\lambda = \\frac{1}{mean}$"
   ]
  },
  {
   "cell_type": "code",
   "execution_count": 72,
   "metadata": {
    "collapsed": false
   },
   "outputs": [
    {
     "data": {
      "text/plain": [
       "0.34580538073172418"
      ]
     },
     "execution_count": 72,
     "metadata": {},
     "output_type": "execute_result"
    }
   ],
   "source": [
    "lambda_ = 1 / mean\n",
    "lambda_"
   ]
  },
  {
   "cell_type": "markdown",
   "metadata": {},
   "source": [
    "# Матожидание гамма распределения:  $\\Gamma(\\alpha, \\beta)$ - это $\\alpha/\\beta$"
   ]
  },
  {
   "cell_type": "markdown",
   "metadata": {},
   "source": [
    "# Апостериорное распределение - $\\Gamma(\\alpha_{prior}+n,\\ \\beta_{prior} + \\Sigma x_i)$"
   ]
  },
  {
   "cell_type": "markdown",
   "metadata": {},
   "source": [
    "## Поскольку особо таки знаний о том как часто ломаются сервера у нас нет, то просто, попробуем взять параметры априорного распределения из выборки - $\\alpha/\\beta = \\lambda$, где лямбда - это 1 делённая на среднее, которое мы посчитали(т.к. матожидание экспоненциального распределения - $\\frac{1}{\\lambda}$)"
   ]
  },
  {
   "cell_type": "code",
   "execution_count": 45,
   "metadata": {
    "collapsed": true
   },
   "outputs": [],
   "source": [
    "prior_alpha = 1\n",
    "prior_beta = lambda_"
   ]
  },
  {
   "cell_type": "markdown",
   "metadata": {},
   "source": [
    "### Типа подобрали параметры априорного распределения"
   ]
  },
  {
   "cell_type": "code",
   "execution_count": 73,
   "metadata": {
    "collapsed": false
   },
   "outputs": [],
   "source": [
    "est.insert(0,lambda_)"
   ]
  },
  {
   "cell_type": "markdown",
   "metadata": {},
   "source": [
    "### Оценили параметр без данных"
   ]
  },
  {
   "cell_type": "markdown",
   "metadata": {},
   "source": [
    "### Выводим результаты"
   ]
  },
  {
   "cell_type": "code",
   "execution_count": 95,
   "metadata": {
    "collapsed": false
   },
   "outputs": [
    {
     "name": "stdout",
     "output_type": "stream",
     "text": [
      "Time \t CondMean \t BreakIfNeeded \t lambda\n",
      "0 \t 20.7483228439 \t  \t\t 0.345805380732\n",
      "1 \t 170.6162 \t  \t\t 2.8918\n",
      "2 \t 61.6122237757 \t break \t\t 1.04503834096\n",
      "3 \t 73.137206602 \t break \t\t 1.24802116846\n",
      "4 \t 65.3294742673 \t break \t\t 1.1130263262\n",
      "5 \t 71.7372371851 \t break \t\t 1.23158613064\n",
      "6 \t 28.7627154149 \t break \t\t 0.440050285461\n",
      "7 \t 28.3226651294 \t  \t\t 0.440050285461\n",
      "8 \t 27.882614844 \t  \t\t 0.440050285461\n",
      "9 \t 27.4425645585 \t  \t\t 0.440050285461\n",
      "10 \t 27.0025142731 \t  \t\t 0.440050285461\n",
      "11 \t 26.5624639876 \t  \t\t 0.440050285461\n",
      "12 \t 26.1224137021 \t  \t\t 0.440050285461\n",
      "13 \t 25.6823634167 \t  \t\t 0.440050285461\n",
      "14 \t 25.2423131312 \t  \t\t 0.440050285461\n",
      "15 \t 29.5764702004 \t break \t\t 0.501699337787\n",
      "16 \t 29.0747708626 \t  \t\t 0.501699337787\n",
      "17 \t 29.8288819629 \t break \t\t 0.507648417743\n",
      "18 \t 29.3212335452 \t  \t\t 0.507648417743\n",
      "19 \t 26.7112513833 \t break \t\t 0.407591497153\n",
      "20 \t 26.3036598861 \t  \t\t 0.407591497153\n",
      "21 \t 25.896068389 \t  \t\t 0.407591497153\n",
      "22 \t 25.4884768918 \t  \t\t 0.407591497153\n",
      "23 \t 25.0808853947 \t  \t\t 0.407591497153\n",
      "24 \t 24.6732938975 \t  \t\t 0.407591497153\n",
      "25 \t 24.2657024003 \t  \t\t 0.407591497153\n",
      "26 \t 23.8581109032 \t  \t\t 0.407591497153\n",
      "27 \t 23.450519406 \t  \t\t 0.407591497153\n",
      "28 \t 24.2264173222 \t break \t\t 0.413325541319\n",
      "29 \t 23.8130917809 \t  \t\t 0.413325541319\n",
      "30 \t 25.1155014975 \t break \t\t 0.43718338325\n",
      "31 \t 24.5364488738 \t break \t\t 0.397808581855\n",
      "32 \t 24.1386402919 \t  \t\t 0.397808581855\n",
      "33 \t 23.7408317101 \t  \t\t 0.397808581855\n",
      "34 \t 23.3430231282 \t  \t\t 0.397808581855\n",
      "35 \t 22.9452145464 \t  \t\t 0.397808581855\n",
      "36 \t 22.5474059645 \t  \t\t 0.397808581855\n",
      "37 \t 21.9570448036 \t break \t\t 0.345958469721\n",
      "38 \t 21.6110863339 \t  \t\t 0.345958469721\n",
      "39 \t 21.2651278642 \t  \t\t 0.345958469721\n",
      "40 \t 20.9191693944 \t  \t\t 0.345958469721\n",
      "41 \t 20.5732109247 \t  \t\t 0.345958469721\n",
      "42 \t 20.227252455 \t  \t\t 0.345958469721\n",
      "43 \t 19.8812939853 \t  \t\t 0.345958469721\n",
      "44 \t 19.5353355155 \t  \t\t 0.345958469721\n",
      "45 \t 20.0759483075 \t break \t\t 0.338396553836\n",
      "46 \t 19.7375517537 \t  \t\t 0.338396553836\n",
      "47 \t 19.3991551999 \t  \t\t 0.338396553836\n",
      "48 \t 19.060758646 \t  \t\t 0.338396553836\n",
      "49 \t 19.7046718506 \t break \t\t 0.336788350051\n",
      "50 \t 19.3678835005 \t  \t\t 0.336788350051\n",
      "51 \t 19.0310951505 \t  \t\t 0.336788350051\n",
      "52 \t 19.7382253496 \t break \t\t 0.342278168703\n",
      "53 \t 19.3959471809 \t  \t\t 0.342278168703\n",
      "54 \t 20.146536703 \t break \t\t 0.35775611716\n",
      "55 \t 20.8129143007 \t break \t\t 0.362582860145\n",
      "56 \t 20.4503314406 \t  \t\t 0.362582860145\n",
      "57 \t 21.0828127382 \t break \t\t 0.360937579413\n",
      "58 \t 20.7218751588 \t  \t\t 0.360937579413\n",
      "59 \t 20.3609375794 \t  \t\t 0.360937579413\n",
      "60 \t 21.0 \t break \t\t 0.378125083195\n"
     ]
    },
    {
     "name": "stderr",
     "output_type": "stream",
     "text": [
      "/home/avk/Programs/anaconda3/lib/python3.5/site-packages/ipykernel/__main__.py:8: DeprecationWarning: using a non-integer number instead of an integer will result in an error in the future\n"
     ]
    }
   ],
   "source": [
    "N = np.zeros(61);\n",
    "\n",
    "for s in range(0, 61) :\n",
    "    for time_of_breakage in data :\n",
    "        if (time_of_breakage > s) :\n",
    "            break\n",
    "        N[s]+=1;\n",
    "est = [ (prior_alpha + N[n]) / (prior_beta + Xi[:N[n]].sum()) for n in range (1, 61)]\n",
    "est.insert(0, lambda_)\n",
    "\n",
    "print(\"Time \\t CondMean \\t BreakIfNeeded \\t lambda\")\n",
    "for s in range(0, 61) :\n",
    "    break_occured\n",
    "    if (s != 0 and N[s] != N[s-1]) : \n",
    "        break_occured = \"break\"\n",
    "    else :\n",
    "        break_occured = \"\"\n",
    "    print(s, \"\\t\", N[s] + est[s]*(60 - s), \"\\t\", break_occured, \"\\t\\t\", est[s])"
   ]
  },
  {
   "cell_type": "markdown",
   "metadata": {},
   "source": [
    "### Если иметь какие-либо начальные знания о распределении, то можно оценить параметр байесовской оценкой при малом количестве данных гораздо точнее, в этом я убедился в предыдущей задаче."
   ]
  },
  {
   "cell_type": "markdown",
   "metadata": {},
   "source": [
    "### Чтобы дать более точную оценку, нужно знать что-то ещё о серверах. Выбрав параметры априорного распределения по выборке видим что значения lambda ещё достаточно варьируются. Оценка нехорошая."
   ]
  },
  {
   "cell_type": "code",
   "execution_count": null,
   "metadata": {
    "collapsed": true
   },
   "outputs": [],
   "source": []
  }
 ],
 "metadata": {
  "kernelspec": {
   "display_name": "Python 3",
   "language": "python",
   "name": "python3"
  },
  "language_info": {
   "codemirror_mode": {
    "name": "ipython",
    "version": 3
   },
   "file_extension": ".py",
   "mimetype": "text/x-python",
   "name": "python",
   "nbconvert_exporter": "python",
   "pygments_lexer": "ipython3",
   "version": "3.5.1"
  }
 },
 "nbformat": 4,
 "nbformat_minor": 0
}
