{
 "cells": [
  {
   "cell_type": "code",
   "execution_count": 77,
   "metadata": {
    "collapsed": true
   },
   "outputs": [],
   "source": [
    "import matplotlib.pyplot as plt\n",
    "import numpy as np\n",
    "import scipy.stats as sts\n",
    "%matplotlib inline"
   ]
  },
  {
   "cell_type": "markdown",
   "metadata": {
    "collapsed": true
   },
   "source": [
    "# Сведём задачу к линейной модели как на семинаре:\n",
    "# $ \\large Y_i = X_i - X_{i-1};\\ Y_0=X_0=\\beta_1+\\varepsilon_0 $\n",
    "# Тогда у нас есть оценка, в точности выведенная на семинаре\n",
    "# $\\large(\\beta_1, \\beta_2) = (Y_0, \\frac{\\Sigma Y_i}{n-1})$ ; \n",
    "# $\\large\\sigma^2 = \\frac{1}{n-1}\\Sigma(Y_j + \\frac{\\Sigma Y_i}{n-1})$\n",
    "# $\\large\\sigma^2_t = \\frac{\\sigma^2}{\\beta_2^2}$"
   ]
  },
  {
   "cell_type": "code",
   "execution_count": 78,
   "metadata": {
    "collapsed": false,
    "scrolled": true
   },
   "outputs": [],
   "source": [
    "X = np.loadtxt('data.txt')"
   ]
  },
  {
   "cell_type": "code",
   "execution_count": 79,
   "metadata": {
    "collapsed": false
   },
   "outputs": [],
   "source": [
    "Y = np.insert(X[1:]-X[:N-1], 0, X[0])"
   ]
  },
  {
   "cell_type": "code",
   "execution_count": 80,
   "metadata": {
    "collapsed": false
   },
   "outputs": [],
   "source": [
    "Summ = Y.sum()\n",
    "beta1, beta2 = Y[0], Summ/(N-1)\n",
    "sigma2 = (Y+Summ/(N-1)).sum()/(N-1)\n",
    "sigma2t = (sigma2/beta2)**2"
   ]
  },
  {
   "cell_type": "code",
   "execution_count": 81,
   "metadata": {
    "collapsed": false
   },
   "outputs": [],
   "source": [
    "f = open('497 Карямин Андрей.txt', 'w')\n",
    "f.write('{} {} {} {}'.format(beta1, beta2, sigma2, sigma2t))\n",
    "f.close()"
   ]
  },
  {
   "cell_type": "code",
   "execution_count": 82,
   "metadata": {
    "collapsed": false
   },
   "outputs": [
    {
     "name": "stdout",
     "output_type": "stream",
     "text": [
      "beta1 = 668.143398,\n",
      "beta2 = 20.108426066666667,\n",
      "sigma^2 = 40.551992567777795,\n",
      "sigma^2_t = 4.066944444444448\n"
     ]
    }
   ],
   "source": [
    "ans = 'beta1 = {},\\nbeta2 = {},\\nsigma^2 = {},\\nsigma^2_t = {}'.format(beta1, beta2, sigma2, sigma2t)\n",
    "print(ans)"
   ]
  },
  {
   "cell_type": "code",
   "execution_count": null,
   "metadata": {
    "collapsed": true
   },
   "outputs": [],
   "source": []
  }
 ],
 "metadata": {
  "kernelspec": {
   "display_name": "Python 3",
   "language": "python",
   "name": "python3"
  },
  "language_info": {
   "codemirror_mode": {
    "name": "ipython",
    "version": 3
   },
   "file_extension": ".py",
   "mimetype": "text/x-python",
   "name": "python",
   "nbconvert_exporter": "python",
   "pygments_lexer": "ipython3",
   "version": "3.5.1"
  }
 },
 "nbformat": 4,
 "nbformat_minor": 0
}
