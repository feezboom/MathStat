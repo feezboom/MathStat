{
 "cells": [
  {
   "cell_type": "code",
   "execution_count": 106,
   "metadata": {
    "collapsed": true
   },
   "outputs": [],
   "source": [
    "import numpy as np\n",
    "import scipy.stats as sps\n",
    "import pandas as pd"
   ]
  },
  {
   "cell_type": "code",
   "execution_count": 107,
   "metadata": {
    "collapsed": false
   },
   "outputs": [],
   "source": [
    "break_data = pd.read_csv('6_1.txt', header=None)\n",
    "break_data = np.array(break_data)"
   ]
  },
  {
   "cell_type": "markdown",
   "metadata": {},
   "source": [
    "## Выведем конечную формулу :\n",
    "## $1)\\ E(N_t - N_s | N_s) = E(N_t - N_s) = \\lambda \\cdot (t-s)\\ $ поскольку они независимы\n",
    "## $2)\\ E(N_t - N_s | N_s) = E(N_t | N_s) - E(N_s | N_s) = E(N_t | N_s) - N_s\\ $  из линейности у.м.о.\n",
    "## $3)\\ E(N_t | N_s) = N_s + \\lambda \\cdot (t-s)\\ $ выразив из двух предыдущих пунктов."
   ]
  },
  {
   "cell_type": "code",
   "execution_count": 108,
   "metadata": {
    "collapsed": false
   },
   "outputs": [],
   "source": [
    "lambda_ = float(break_data[0])\n",
    "break_data = break_data[1:]"
   ]
  },
  {
   "cell_type": "code",
   "execution_count": 109,
   "metadata": {
    "collapsed": false
   },
   "outputs": [],
   "source": [
    "N = np.zeros(61);\n",
    "\n",
    "for s in range(0, 61) :\n",
    "    for time_of_breakage in break_data :\n",
    "        if (time_of_breakage > s) :\n",
    "            break\n",
    "        N[s]+=1;\n"
   ]
  },
  {
   "cell_type": "code",
   "execution_count": 111,
   "metadata": {
    "collapsed": false
   },
   "outputs": [
    {
     "name": "stdout",
     "output_type": "stream",
     "text": [
      "Time \t CondMean\n",
      "0 \t 17.22\n",
      "1 \t 16.933\n",
      "2 \t 17.646\n",
      "3 \t 18.359\n",
      "4 \t 19.072\n",
      "5 \t 19.785\n",
      "6 \t 20.498\n",
      "7 \t 20.211\n",
      "8 \t 19.924\n",
      "9 \t 19.637\n",
      "10 \t 19.35\n",
      "11 \t 19.063\n",
      "12 \t 18.776\n",
      "13 \t 18.489\n",
      "14 \t 18.202\n",
      "15 \t 19.915\n",
      "16 \t 19.628\n",
      "17 \t 20.341\n",
      "18 \t 20.054\n",
      "19 \t 21.767\n",
      "20 \t 21.48\n",
      "21 \t 21.193\n",
      "22 \t 20.906\n",
      "23 \t 20.619\n",
      "24 \t 20.332\n",
      "25 \t 20.045\n",
      "26 \t 19.758\n",
      "27 \t 19.471\n",
      "28 \t 20.184\n",
      "29 \t 19.897\n",
      "30 \t 20.61\n",
      "31 \t 21.323\n",
      "32 \t 21.036\n",
      "33 \t 20.749\n",
      "34 \t 20.462\n",
      "35 \t 20.175\n",
      "36 \t 19.888\n",
      "37 \t 20.601\n",
      "38 \t 20.314\n",
      "39 \t 20.027\n",
      "40 \t 19.74\n",
      "41 \t 19.453\n",
      "42 \t 19.166\n",
      "43 \t 18.879\n",
      "44 \t 18.592\n",
      "45 \t 19.305\n",
      "46 \t 19.018\n",
      "47 \t 18.731\n",
      "48 \t 18.444\n",
      "49 \t 19.157\n",
      "50 \t 18.87\n",
      "51 \t 18.583\n",
      "52 \t 19.296\n",
      "53 \t 19.009\n",
      "54 \t 19.722\n",
      "55 \t 20.435\n",
      "56 \t 20.148\n",
      "57 \t 20.861\n",
      "58 \t 20.574\n",
      "59 \t 20.287\n",
      "60 \t 21.0\n"
     ]
    }
   ],
   "source": [
    "print(\"Time \\t CondMean\")\n",
    "for s in range(0, 61) :\n",
    "    print(s, \"\\t\", N[s] + lambda_*(60 - s))"
   ]
  },
  {
   "cell_type": "code",
   "execution_count": 113,
   "metadata": {
    "collapsed": false
   },
   "outputs": [
    {
     "name": "stdout",
     "output_type": "stream",
     "text": [
      "21\n"
     ]
    }
   ],
   "source": [
    "print(break_data.size)"
   ]
  },
  {
   "cell_type": "markdown",
   "metadata": {},
   "source": [
    "## Реально сломался 21 сервер, расчёты по формуле дают достаточно точную оценку и в принципе можно на неё полагаться."
   ]
  }
 ],
 "metadata": {
  "kernelspec": {
   "display_name": "Python 3",
   "language": "python",
   "name": "python3"
  },
  "language_info": {
   "codemirror_mode": {
    "name": "ipython",
    "version": 3
   },
   "file_extension": ".py",
   "mimetype": "text/x-python",
   "name": "python",
   "nbconvert_exporter": "python",
   "pygments_lexer": "ipython3",
   "version": "3.5.1"
  }
 },
 "nbformat": 4,
 "nbformat_minor": 0
}
