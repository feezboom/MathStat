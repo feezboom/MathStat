{
 "cells": [
  {
   "cell_type": "code",
   "execution_count": 25,
   "metadata": {
    "collapsed": true
   },
   "outputs": [],
   "source": [
    "import numpy as np\n",
    "import sklearn as sk\n",
    "import pandas as pd"
   ]
  },
  {
   "cell_type": "code",
   "execution_count": 26,
   "metadata": {
    "collapsed": false
   },
   "outputs": [
    {
     "name": "stdout",
     "output_type": "stream",
     "text": [
      "3849\n"
     ]
    }
   ],
   "source": [
    "train = pd.read_csv(\"w-train.txt\", sep=\";\", names=[\"c\", \"p\", \"t\", \"s\"])\n",
    "test = pd.read_csv(\"s-test.txt\", sep=\";\", names=[\"c\", \"p\", \"t\"])\n",
    "n = len(test)\n",
    "print n"
   ]
  },
  {
   "cell_type": "code",
   "execution_count": 27,
   "metadata": {
    "collapsed": false
   },
   "outputs": [],
   "source": [
    "train = pd.DataFrame(train)\n",
    "test = pd.DataFrame(test)"
   ]
  },
  {
   "cell_type": "code",
   "execution_count": 28,
   "metadata": {
    "collapsed": false
   },
   "outputs": [],
   "source": [
    "train[\"t\"] = train[\"t\"].apply(lambda s: s[: s.find(\":\")])\n",
    "\n",
    "train[\"s\"] = 1.0 * np.array(train[\"s\"]) / np.array(train[\"p\"])"
   ]
  },
  {
   "cell_type": "code",
   "execution_count": null,
   "metadata": {
    "collapsed": true
   },
   "outputs": [],
   "source": [
    "coolness = []\n",
    "for index, row in test.iterrows():\n",
    "    teamname=row[\"t\"]\n",
    "    teamname = teamname[: teamname.find(\":\")]\n",
    "    \n",
    "    team_ids = (train[\"t\"] == teamname)\n",
    "    ans = np.mean(train[\"s\"][team_ids])\n",
    "    coolness.append(ans)\n",
    "    "
   ]
  },
  {
   "cell_type": "code",
   "execution_count": 51,
   "metadata": {
    "collapsed": false
   },
   "outputs": [],
   "source": [
    "coolness = np.array(coolness)\n",
    "nans = np.isnan(coolness)\n",
    "mean_cns = np.mean(coolness[~nans])\n",
    "coolness[np.isnan(coolness)] = mean_cns\n",
    "test[\"cns\"] = coolness"
   ]
  },
  {
   "cell_type": "code",
   "execution_count": 52,
   "metadata": {
    "collapsed": false
   },
   "outputs": [],
   "source": [
    "test[\"s\"] = np.array(test[\"cns\"]) * np.array(test[\"p\"])"
   ]
  },
  {
   "cell_type": "code",
   "execution_count": 53,
   "metadata": {
    "collapsed": false
   },
   "outputs": [
    {
     "data": {
      "text/html": [
       "<div>\n",
       "<table border=\"1\" class=\"dataframe\">\n",
       "  <thead>\n",
       "    <tr style=\"text-align: right;\">\n",
       "      <th></th>\n",
       "      <th>c</th>\n",
       "      <th>p</th>\n",
       "      <th>t</th>\n",
       "      <th>cns</th>\n",
       "      <th>s</th>\n",
       "    </tr>\n",
       "  </thead>\n",
       "  <tbody>\n",
       "    <tr>\n",
       "      <th>0</th>\n",
       "      <td>Day 01, Opening Contest, Friday, August 22, 2003</td>\n",
       "      <td>8</td>\n",
       "      <td>Wx4</td>\n",
       "      <td>0.150617</td>\n",
       "      <td>1.204935</td>\n",
       "    </tr>\n",
       "    <tr>\n",
       "      <th>1</th>\n",
       "      <td>Day 01, Opening Contest, Friday, August 22, 2003</td>\n",
       "      <td>8</td>\n",
       "      <td>Trinity</td>\n",
       "      <td>0.434092</td>\n",
       "      <td>3.472737</td>\n",
       "    </tr>\n",
       "    <tr>\n",
       "      <th>2</th>\n",
       "      <td>Day 01, Opening Contest, Friday, August 22, 2003</td>\n",
       "      <td>8</td>\n",
       "      <td>AI</td>\n",
       "      <td>0.035714</td>\n",
       "      <td>0.285714</td>\n",
       "    </tr>\n",
       "    <tr>\n",
       "      <th>3</th>\n",
       "      <td>Day 01, Opening Contest, Friday, August 22, 2003</td>\n",
       "      <td>8</td>\n",
       "      <td>JUPITER</td>\n",
       "      <td>0.444233</td>\n",
       "      <td>3.553865</td>\n",
       "    </tr>\n",
       "    <tr>\n",
       "      <th>4</th>\n",
       "      <td>Day 01, Opening Contest, Friday, August 22, 2003</td>\n",
       "      <td>8</td>\n",
       "      <td>Samara MNU</td>\n",
       "      <td>0.444233</td>\n",
       "      <td>3.553865</td>\n",
       "    </tr>\n",
       "  </tbody>\n",
       "</table>\n",
       "</div>"
      ],
      "text/plain": [
       "                                                  c  p           t       cns  \\\n",
       "0  Day 01, Opening Contest, Friday, August 22, 2003  8         Wx4  0.150617   \n",
       "1  Day 01, Opening Contest, Friday, August 22, 2003  8     Trinity  0.434092   \n",
       "2  Day 01, Opening Contest, Friday, August 22, 2003  8          AI  0.035714   \n",
       "3  Day 01, Opening Contest, Friday, August 22, 2003  8     JUPITER  0.444233   \n",
       "4  Day 01, Opening Contest, Friday, August 22, 2003  8  Samara MNU  0.444233   \n",
       "\n",
       "          s  \n",
       "0  1.204935  \n",
       "1  3.472737  \n",
       "2  0.285714  \n",
       "3  3.553865  \n",
       "4  3.553865  "
      ]
     },
     "execution_count": 53,
     "metadata": {},
     "output_type": "execute_result"
    }
   ],
   "source": [
    "test.head()"
   ]
  },
  {
   "cell_type": "code",
   "execution_count": 54,
   "metadata": {
    "collapsed": false
   },
   "outputs": [],
   "source": [
    "test.to_csv(\"prediction-a.csv\", sep=\";\", na_rep=4, index=False, header=False, columns=[\"c\", \"p\", \"t\", \"s\"])"
   ]
  },
  {
   "cell_type": "code",
   "execution_count": 55,
   "metadata": {
    "collapsed": false
   },
   "outputs": [
    {
     "name": "stderr",
     "output_type": "stream",
     "text": [
      "/home/manatee/anaconda2/lib/python2.7/site-packages/ipykernel/__main__.py:1: FutureWarning: sort(columns=....) is deprecated, use sort_values(by=.....)\n",
      "  if __name__ == '__main__':\n"
     ]
    }
   ],
   "source": [
    "test = test.sort([\"cns\"], ascending=False)"
   ]
  },
  {
   "cell_type": "code",
   "execution_count": 56,
   "metadata": {
    "collapsed": false
   },
   "outputs": [
    {
     "data": {
      "text/html": [
       "<div>\n",
       "<table border=\"1\" class=\"dataframe\">\n",
       "  <thead>\n",
       "    <tr style=\"text-align: right;\">\n",
       "      <th></th>\n",
       "      <th>c</th>\n",
       "      <th>p</th>\n",
       "      <th>t</th>\n",
       "      <th>cns</th>\n",
       "      <th>s</th>\n",
       "    </tr>\n",
       "  </thead>\n",
       "  <tbody>\n",
       "    <tr>\n",
       "      <th>3605</th>\n",
       "      <td>Day 03, Ivan Smirnov Contest 1, Sunday, August...</td>\n",
       "      <td>11</td>\n",
       "      <td>SPb ITMO University 1: Bardashevich, Kovsharov...</td>\n",
       "      <td>0.839478</td>\n",
       "      <td>9.234259</td>\n",
       "    </tr>\n",
       "    <tr>\n",
       "      <th>3539</th>\n",
       "      <td>Day 01, Japanese Contest, Friday, August 21, 2015</td>\n",
       "      <td>12</td>\n",
       "      <td>SPb ITMO University 1: Bardashevich, Kovsharov...</td>\n",
       "      <td>0.839478</td>\n",
       "      <td>10.073737</td>\n",
       "    </tr>\n",
       "    <tr>\n",
       "      <th>3725</th>\n",
       "      <td>Day 06, Yandex.Cup Round 2, Thursday, August 2...</td>\n",
       "      <td>10</td>\n",
       "      <td>SPb ITMO University 1: Bardashevich, Kovsharov...</td>\n",
       "      <td>0.839478</td>\n",
       "      <td>8.394781</td>\n",
       "    </tr>\n",
       "    <tr>\n",
       "      <th>3811</th>\n",
       "      <td>Day 09, Andrew Stankevich Contest 48, Monday, ...</td>\n",
       "      <td>10</td>\n",
       "      <td>SPb ITMO University 1: Bardashevich, Kovsharov...</td>\n",
       "      <td>0.839478</td>\n",
       "      <td>8.394781</td>\n",
       "    </tr>\n",
       "    <tr>\n",
       "      <th>3658</th>\n",
       "      <td>Day 05, Yandex.Cup Round 1, Wednesday, August ...</td>\n",
       "      <td>8</td>\n",
       "      <td>SPb ITMO University 1: Bardashevich, Kovsharov...</td>\n",
       "      <td>0.839478</td>\n",
       "      <td>6.715825</td>\n",
       "    </tr>\n",
       "  </tbody>\n",
       "</table>\n",
       "</div>"
      ],
      "text/plain": [
       "                                                      c   p  \\\n",
       "3605  Day 03, Ivan Smirnov Contest 1, Sunday, August...  11   \n",
       "3539  Day 01, Japanese Contest, Friday, August 21, 2015  12   \n",
       "3725  Day 06, Yandex.Cup Round 2, Thursday, August 2...  10   \n",
       "3811  Day 09, Andrew Stankevich Contest 48, Monday, ...  10   \n",
       "3658  Day 05, Yandex.Cup Round 1, Wednesday, August ...   8   \n",
       "\n",
       "                                                      t       cns          s  \n",
       "3605  SPb ITMO University 1: Bardashevich, Kovsharov...  0.839478   9.234259  \n",
       "3539  SPb ITMO University 1: Bardashevich, Kovsharov...  0.839478  10.073737  \n",
       "3725  SPb ITMO University 1: Bardashevich, Kovsharov...  0.839478   8.394781  \n",
       "3811  SPb ITMO University 1: Bardashevich, Kovsharov...  0.839478   8.394781  \n",
       "3658  SPb ITMO University 1: Bardashevich, Kovsharov...  0.839478   6.715825  "
      ]
     },
     "execution_count": 56,
     "metadata": {},
     "output_type": "execute_result"
    }
   ],
   "source": [
    "test.head()"
   ]
  },
  {
   "cell_type": "code",
   "execution_count": 57,
   "metadata": {
    "collapsed": false
   },
   "outputs": [
    {
     "data": {
      "text/html": [
       "<div>\n",
       "<table border=\"1\" class=\"dataframe\">\n",
       "  <thead>\n",
       "    <tr style=\"text-align: right;\">\n",
       "      <th></th>\n",
       "      <th>c</th>\n",
       "      <th>p</th>\n",
       "      <th>t</th>\n",
       "      <th>cns</th>\n",
       "      <th>s</th>\n",
       "    </tr>\n",
       "  </thead>\n",
       "  <tbody>\n",
       "    <tr>\n",
       "      <th>112</th>\n",
       "      <td>Day 07, Petrozavodsk SU Contest #2, Friday, Au...</td>\n",
       "      <td>10</td>\n",
       "      <td>AI</td>\n",
       "      <td>0.035714</td>\n",
       "      <td>0.357143</td>\n",
       "    </tr>\n",
       "    <tr>\n",
       "      <th>131</th>\n",
       "      <td>Day 08, Final Contest, Saturday, August 30, 2003</td>\n",
       "      <td>9</td>\n",
       "      <td>AI</td>\n",
       "      <td>0.035714</td>\n",
       "      <td>0.321429</td>\n",
       "    </tr>\n",
       "    <tr>\n",
       "      <th>19</th>\n",
       "      <td>Day 02, Andrew Stankevich Contest 1, Saturday,...</td>\n",
       "      <td>8</td>\n",
       "      <td>AI</td>\n",
       "      <td>0.035714</td>\n",
       "      <td>0.285714</td>\n",
       "    </tr>\n",
       "    <tr>\n",
       "      <th>58</th>\n",
       "      <td>Day 04, Blitz Kontest, Monday, August 25, 2003</td>\n",
       "      <td>26</td>\n",
       "      <td>AI</td>\n",
       "      <td>0.035714</td>\n",
       "      <td>0.928571</td>\n",
       "    </tr>\n",
       "    <tr>\n",
       "      <th>142</th>\n",
       "      <td>Day 09, KOTEHOK's Contest, Sunday, August 31, ...</td>\n",
       "      <td>8</td>\n",
       "      <td>AI</td>\n",
       "      <td>0.035714</td>\n",
       "      <td>0.285714</td>\n",
       "    </tr>\n",
       "  </tbody>\n",
       "</table>\n",
       "</div>"
      ],
      "text/plain": [
       "                                                     c   p   t       cns  \\\n",
       "112  Day 07, Petrozavodsk SU Contest #2, Friday, Au...  10  AI  0.035714   \n",
       "131   Day 08, Final Contest, Saturday, August 30, 2003   9  AI  0.035714   \n",
       "19   Day 02, Andrew Stankevich Contest 1, Saturday,...   8  AI  0.035714   \n",
       "58      Day 04, Blitz Kontest, Monday, August 25, 2003  26  AI  0.035714   \n",
       "142  Day 09, KOTEHOK's Contest, Sunday, August 31, ...   8  AI  0.035714   \n",
       "\n",
       "            s  \n",
       "112  0.357143  \n",
       "131  0.321429  \n",
       "19   0.285714  \n",
       "58   0.928571  \n",
       "142  0.285714  "
      ]
     },
     "execution_count": 57,
     "metadata": {},
     "output_type": "execute_result"
    }
   ],
   "source": [
    "test.tail()"
   ]
  },
  {
   "cell_type": "code",
   "execution_count": null,
   "metadata": {
    "collapsed": true
   },
   "outputs": [],
   "source": []
  },
  {
   "cell_type": "code",
   "execution_count": 58,
   "metadata": {
    "collapsed": false
   },
   "outputs": [],
   "source": [
    "test.to_csv(\"prediction-c.csv\", sep=\";\", na_rep=4, index=False, header=False, columns=[\"c\", \"p\", \"t\"])"
   ]
  },
  {
   "cell_type": "code",
   "execution_count": 59,
   "metadata": {
    "collapsed": false
   },
   "outputs": [],
   "source": [
    "test[\"n\"] = (0.9 - test[\"cns\"]) / 0.25"
   ]
  },
  {
   "cell_type": "code",
   "execution_count": 60,
   "metadata": {
    "collapsed": false
   },
   "outputs": [],
   "source": [
    "def ftoi(x):\n",
    "    if np.isnan(x):\n",
    "        return 3\n",
    "    else:\n",
    "        return int(np.round(x))"
   ]
  },
  {
   "cell_type": "code",
   "execution_count": 61,
   "metadata": {
    "collapsed": false
   },
   "outputs": [],
   "source": [
    "test[\"n\"] = test[\"n\"].apply(ftoi)"
   ]
  },
  {
   "cell_type": "code",
   "execution_count": 62,
   "metadata": {
    "collapsed": false,
    "scrolled": true
   },
   "outputs": [
    {
     "data": {
      "text/html": [
       "<div>\n",
       "<table border=\"1\" class=\"dataframe\">\n",
       "  <thead>\n",
       "    <tr style=\"text-align: right;\">\n",
       "      <th></th>\n",
       "      <th>c</th>\n",
       "      <th>p</th>\n",
       "      <th>t</th>\n",
       "      <th>cns</th>\n",
       "      <th>s</th>\n",
       "      <th>n</th>\n",
       "    </tr>\n",
       "  </thead>\n",
       "  <tbody>\n",
       "    <tr>\n",
       "      <th>3605</th>\n",
       "      <td>Day 03, Ivan Smirnov Contest 1, Sunday, August...</td>\n",
       "      <td>11</td>\n",
       "      <td>SPb ITMO University 1: Bardashevich, Kovsharov...</td>\n",
       "      <td>0.839478</td>\n",
       "      <td>9.234259</td>\n",
       "      <td>0</td>\n",
       "    </tr>\n",
       "    <tr>\n",
       "      <th>3539</th>\n",
       "      <td>Day 01, Japanese Contest, Friday, August 21, 2015</td>\n",
       "      <td>12</td>\n",
       "      <td>SPb ITMO University 1: Bardashevich, Kovsharov...</td>\n",
       "      <td>0.839478</td>\n",
       "      <td>10.073737</td>\n",
       "      <td>0</td>\n",
       "    </tr>\n",
       "    <tr>\n",
       "      <th>3725</th>\n",
       "      <td>Day 06, Yandex.Cup Round 2, Thursday, August 2...</td>\n",
       "      <td>10</td>\n",
       "      <td>SPb ITMO University 1: Bardashevich, Kovsharov...</td>\n",
       "      <td>0.839478</td>\n",
       "      <td>8.394781</td>\n",
       "      <td>0</td>\n",
       "    </tr>\n",
       "    <tr>\n",
       "      <th>3811</th>\n",
       "      <td>Day 09, Andrew Stankevich Contest 48, Monday, ...</td>\n",
       "      <td>10</td>\n",
       "      <td>SPb ITMO University 1: Bardashevich, Kovsharov...</td>\n",
       "      <td>0.839478</td>\n",
       "      <td>8.394781</td>\n",
       "      <td>0</td>\n",
       "    </tr>\n",
       "    <tr>\n",
       "      <th>3658</th>\n",
       "      <td>Day 05, Yandex.Cup Round 1, Wednesday, August ...</td>\n",
       "      <td>8</td>\n",
       "      <td>SPb ITMO University 1: Bardashevich, Kovsharov...</td>\n",
       "      <td>0.839478</td>\n",
       "      <td>6.715825</td>\n",
       "      <td>0</td>\n",
       "    </tr>\n",
       "  </tbody>\n",
       "</table>\n",
       "</div>"
      ],
      "text/plain": [
       "                                                      c   p  \\\n",
       "3605  Day 03, Ivan Smirnov Contest 1, Sunday, August...  11   \n",
       "3539  Day 01, Japanese Contest, Friday, August 21, 2015  12   \n",
       "3725  Day 06, Yandex.Cup Round 2, Thursday, August 2...  10   \n",
       "3811  Day 09, Andrew Stankevich Contest 48, Monday, ...  10   \n",
       "3658  Day 05, Yandex.Cup Round 1, Wednesday, August ...   8   \n",
       "\n",
       "                                                      t       cns          s  \\\n",
       "3605  SPb ITMO University 1: Bardashevich, Kovsharov...  0.839478   9.234259   \n",
       "3539  SPb ITMO University 1: Bardashevich, Kovsharov...  0.839478  10.073737   \n",
       "3725  SPb ITMO University 1: Bardashevich, Kovsharov...  0.839478   8.394781   \n",
       "3811  SPb ITMO University 1: Bardashevich, Kovsharov...  0.839478   8.394781   \n",
       "3658  SPb ITMO University 1: Bardashevich, Kovsharov...  0.839478   6.715825   \n",
       "\n",
       "      n  \n",
       "3605  0  \n",
       "3539  0  \n",
       "3725  0  \n",
       "3811  0  \n",
       "3658  0  "
      ]
     },
     "execution_count": 62,
     "metadata": {},
     "output_type": "execute_result"
    }
   ],
   "source": [
    "test.head()"
   ]
  },
  {
   "cell_type": "code",
   "execution_count": 63,
   "metadata": {
    "collapsed": true
   },
   "outputs": [],
   "source": [
    "test.to_csv(\"prediction-b.csv\", sep=\";\", na_rep=4, index=False, header=False, columns=[\"c\", \"p\", \"t\", \"n\"])"
   ]
  },
  {
   "cell_type": "code",
   "execution_count": null,
   "metadata": {
    "collapsed": true
   },
   "outputs": [],
   "source": []
  }
 ],
 "metadata": {
  "kernelspec": {
   "display_name": "Python 3",
   "language": "python",
   "name": "python3"
  },
  "language_info": {
   "codemirror_mode": {
    "name": "ipython",
    "version": 3
   },
   "file_extension": ".py",
   "mimetype": "text/x-python",
   "name": "python",
   "nbconvert_exporter": "python",
   "pygments_lexer": "ipython3",
   "version": "3.5.1"
  }
 },
 "nbformat": 4,
 "nbformat_minor": 0
}
