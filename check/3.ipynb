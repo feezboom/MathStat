{
 "cells": [
  {
   "cell_type": "code",
   "execution_count": 9,
   "metadata": {
    "collapsed": true
   },
   "outputs": [],
   "source": [
    "import scipy.stats as sts\n",
    "import scipy.misc as sm\n",
    "import numpy as np\n",
    "import pandas as pd\n",
    "import matplotlib.pyplot as plt\n",
    "from mpl_toolkits.mplot3d import Axes3D\n",
    "from IPython.display import display\n",
    "%matplotlib inline"
   ]
  },
  {
   "cell_type": "code",
   "execution_count": 27,
   "metadata": {
    "collapsed": false
   },
   "outputs": [
    {
     "name": "stdout",
     "output_type": "stream",
     "text": [
      "87 14\n"
     ]
    },
    {
     "data": {
      "text/html": [
       "<div>\n",
       "<table border=\"1\" class=\"dataframe\">\n",
       "  <thead>\n",
       "    <tr style=\"text-align: right;\">\n",
       "      <th></th>\n",
       "      <th>0</th>\n",
       "      <th>1</th>\n",
       "      <th>2</th>\n",
       "      <th>3</th>\n",
       "      <th>4</th>\n",
       "      <th>5</th>\n",
       "      <th>6</th>\n",
       "      <th>7</th>\n",
       "      <th>8</th>\n",
       "      <th>9</th>\n",
       "      <th>10</th>\n",
       "      <th>11</th>\n",
       "      <th>12</th>\n",
       "      <th>13</th>\n",
       "    </tr>\n",
       "  </thead>\n",
       "  <tbody>\n",
       "    <tr>\n",
       "      <th>0</th>\n",
       "      <td>Garkavyj Andrej</td>\n",
       "      <td>3.0</td>\n",
       "      <td>3.0</td>\n",
       "      <td>3.0</td>\n",
       "      <td>3.0</td>\n",
       "      <td>1.0</td>\n",
       "      <td>2.0</td>\n",
       "      <td>3.0</td>\n",
       "      <td>3.0</td>\n",
       "      <td>3.0</td>\n",
       "      <td>3.0</td>\n",
       "      <td>-1.0</td>\n",
       "      <td>3.0</td>\n",
       "      <td>3.0</td>\n",
       "    </tr>\n",
       "    <tr>\n",
       "      <th>1</th>\n",
       "      <td>Gol'cova Ekaterina</td>\n",
       "      <td>3.0</td>\n",
       "      <td>3.0</td>\n",
       "      <td>3.0</td>\n",
       "      <td>3.0</td>\n",
       "      <td>0.0</td>\n",
       "      <td>3.0</td>\n",
       "      <td>3.0</td>\n",
       "      <td>3.0</td>\n",
       "      <td>3.0</td>\n",
       "      <td>3.0</td>\n",
       "      <td>-1.0</td>\n",
       "      <td>3.0</td>\n",
       "      <td>3.0</td>\n",
       "    </tr>\n",
       "    <tr>\n",
       "      <th>2</th>\n",
       "      <td>Grishkin Maksim</td>\n",
       "      <td>1.0</td>\n",
       "      <td>3.0</td>\n",
       "      <td>3.0</td>\n",
       "      <td>1.0</td>\n",
       "      <td>0.0</td>\n",
       "      <td>0.0</td>\n",
       "      <td>0.0</td>\n",
       "      <td>0.0</td>\n",
       "      <td>0.0</td>\n",
       "      <td>3.0</td>\n",
       "      <td>-1.0</td>\n",
       "      <td>0.0</td>\n",
       "      <td>0.0</td>\n",
       "    </tr>\n",
       "    <tr>\n",
       "      <th>3</th>\n",
       "      <td>Dmitriev Daniil</td>\n",
       "      <td>3.0</td>\n",
       "      <td>2.0</td>\n",
       "      <td>2.0</td>\n",
       "      <td>1.0</td>\n",
       "      <td>0.0</td>\n",
       "      <td>3.0</td>\n",
       "      <td>3.0</td>\n",
       "      <td>1.0</td>\n",
       "      <td>3.0</td>\n",
       "      <td>3.0</td>\n",
       "      <td>-1.0</td>\n",
       "      <td>3.0</td>\n",
       "      <td>3.0</td>\n",
       "    </tr>\n",
       "    <tr>\n",
       "      <th>4</th>\n",
       "      <td>Egorova Alena</td>\n",
       "      <td>3.0</td>\n",
       "      <td>3.0</td>\n",
       "      <td>3.0</td>\n",
       "      <td>3.0</td>\n",
       "      <td>0.0</td>\n",
       "      <td>2.0</td>\n",
       "      <td>2.0</td>\n",
       "      <td>1.0</td>\n",
       "      <td>1.0</td>\n",
       "      <td>3.0</td>\n",
       "      <td>-1.0</td>\n",
       "      <td>3.0</td>\n",
       "      <td>3.0</td>\n",
       "    </tr>\n",
       "  </tbody>\n",
       "</table>\n",
       "</div>"
      ],
      "text/plain": [
       "                   0    1    2    3    4    5    6    7    8    9    10   11  \\\n",
       "0     Garkavyj Andrej  3.0  3.0  3.0  3.0  1.0  2.0  3.0  3.0  3.0  3.0 -1.0   \n",
       "1  Gol'cova Ekaterina  3.0  3.0  3.0  3.0  0.0  3.0  3.0  3.0  3.0  3.0 -1.0   \n",
       "2     Grishkin Maksim  1.0  3.0  3.0  1.0  0.0  0.0  0.0  0.0  0.0  3.0 -1.0   \n",
       "3     Dmitriev Daniil  3.0  2.0  2.0  1.0  0.0  3.0  3.0  1.0  3.0  3.0 -1.0   \n",
       "4       Egorova Alena  3.0  3.0  3.0  3.0  0.0  2.0  2.0  1.0  1.0  3.0 -1.0   \n",
       "\n",
       "    12   13  \n",
       "0  3.0  3.0  \n",
       "1  3.0  3.0  \n",
       "2  0.0  0.0  \n",
       "3  3.0  3.0  \n",
       "4  3.0  3.0  "
      ]
     },
     "execution_count": 27,
     "metadata": {},
     "output_type": "execute_result"
    }
   ],
   "source": [
    "data = pd.read_csv('marks.csv', header=None)\n",
    "n = data.shape[0]\n",
    "nrange = np.arange(n)\n",
    "m = data.shape[1]\n",
    "\n",
    "print (n, m)\n",
    "\n",
    "data = data.fillna(0)\n",
    "data.head()"
   ]
  },
  {
   "cell_type": "code",
   "execution_count": 32,
   "metadata": {
    "collapsed": false
   },
   "outputs": [
    {
     "name": "stdout",
     "output_type": "stream",
     "text": [
      "[[2.0 2.0 2.0 2.0]\n",
      " [3.0 3.0 3.0 3.0]\n",
      " [3.0 3.0 3.0 3.0]\n",
      " [1.0 1.0 1.0 1.0]\n",
      " [0.0 0.0 0.0 0.0]\n",
      " [2.0 2.0 2.0 2.0]\n",
      " [0.0 0.0 0.0 0.0]\n",
      " [0.0 0.0 0.0 0.0]\n",
      " [0.0 0.0 0.0 0.0]\n",
      " [3.0 3.0 3.0 3.0]\n",
      " [1.0 1.0 1.0 1.0]\n",
      " [3.0 3.0 3.0 3.0]\n",
      " [-1.0 -1.0 -1.0 -1.0]]\n"
     ]
    }
   ],
   "source": [
    "names = [\"Karjamin Andrej\", \"Nurgalieva Jegdelija\", \"Mudrova Irina\", \"Pechatnov Jurij\"]\n",
    "xs = []\n",
    "for name in names:\n",
    "    x = data[data[0] == \"Karjamin Andrej\"]\n",
    "    xs.append(np.array(x)[0][1:])\n",
    "\n",
    "probnum = len(xs[0])\n",
    "print(np.array(xs).T)"
   ]
  },
  {
   "cell_type": "code",
   "execution_count": 33,
   "metadata": {
    "collapsed": false
   },
   "outputs": [],
   "source": [
    "maxmark = 10\n",
    "markrange = np.arange(maxmark + 1)\n",
    "def est(x):\n",
    "    pe = []\n",
    "    for pi in range(1, m):\n",
    "        if x[pi - 1] != -1:\n",
    "            pe.append(0)\n",
    "            continue\n",
    "        prior_alphas = []\n",
    "        for mark in markrange:\n",
    "            pcnt = 1.0 * np.sum(data[pi] == mark) / np.sum(data[pi] != 0)\n",
    "            prior_alphas.append(pcnt)\n",
    "        #print alphas\n",
    "        poster_alphas = []\n",
    "        for mark, prior_alpha in zip(markrange, prior_alphas):\n",
    "            talpha = prior_alpha + np.sum(x == mark)\n",
    "            #print np.sum(x == mark)\n",
    "            poster_alphas.append(talpha)\n",
    "        poster_alphas = np.array(poster_alphas)\n",
    "        probas = poster_alphas / np.sum(poster_alphas)\n",
    "        e = 0\n",
    "        for mark in markrange:\n",
    "            e += mark * probas[mark]\n",
    "        pe.append(e)\n",
    "    return pe"
   ]
  },
  {
   "cell_type": "code",
   "execution_count": 15,
   "metadata": {
    "collapsed": false
   },
   "outputs": [
    {
     "name": "stdout",
     "output_type": "stream",
     "text": [
      "[0, 0, 0, 0, 0, 0, 0, 0, 0, 0, 0, 0, 1.5042643923240937]\n"
     ]
    }
   ],
   "source": [
    "print(est(xs[0]))"
   ]
  },
  {
   "cell_type": "code",
   "execution_count": 17,
   "metadata": {
    "collapsed": false
   },
   "outputs": [
    {
     "name": "stdout",
     "output_type": "stream",
     "text": [
      "Karjamin Andrej\n",
      "[2.0 3.0 3.0 1.0 0.0 2.0 0.0 0.0 0.0 3.0 1.0 3.0 -1.0]\n",
      "[ 0.   0.   0.   0.   0.   0.   0.   0.   0.   0.   0.   0.   1.5]\n",
      "Nurgalieva Jegdelija\n",
      "[2.0 3.0 3.0 1.0 0.0 2.0 0.0 0.0 0.0 3.0 1.0 3.0 -1.0]\n",
      "[ 0.   0.   0.   0.   0.   0.   0.   0.   0.   0.   0.   0.   1.5]\n",
      "Mudrova Irina\n",
      "[2.0 3.0 3.0 1.0 0.0 2.0 0.0 0.0 0.0 3.0 1.0 3.0 -1.0]\n",
      "[ 0.   0.   0.   0.   0.   0.   0.   0.   0.   0.   0.   0.   1.5]\n",
      "Pechatnov Jurij\n",
      "[2.0 3.0 3.0 1.0 0.0 2.0 0.0 0.0 0.0 3.0 1.0 3.0 -1.0]\n",
      "[ 0.   0.   0.   0.   0.   0.   0.   0.   0.   0.   0.   0.   1.5]\n"
     ]
    }
   ],
   "source": [
    "for name, x in zip(names, xs):\n",
    "    print(name)\n",
    "    print(x)\n",
    "    print(np.round(est(x), 1))"
   ]
  },
  {
   "cell_type": "code",
   "execution_count": 34,
   "metadata": {
    "collapsed": false
   },
   "outputs": [
    {
     "name": "stdout",
     "output_type": "stream",
     "text": [
      "[[3.0 3.0 3.0 ..., -1.0 3.0 3.0]\n",
      " [3.0 3.0 3.0 ..., -1.0 3.0 3.0]\n",
      " [1.0 3.0 3.0 ..., -1.0 0.0 0.0]\n",
      " ..., \n",
      " [3.0 3.0 3.0 ..., -1.0 0.0 0.0]\n",
      " [3.0 3.0 3.0 ..., -1.0 3.0 0.0]\n",
      " [2.0 3.0 3.0 ..., -1.0 3.0 2.0]]\n",
      "[[3.0 3.0 3.0 ..., 1.6702002355712602 3.0 3.0]\n",
      " [3.0 3.0 3.0 ..., 1.6702002355712602 3.0 3.0]\n",
      " [1.0 3.0 3.0 ..., -0.0918727915194345 0.0 0.0]\n",
      " ..., \n",
      " [3.0 3.0 3.0 ..., 0.22850412249705543 0.0 0.0]\n",
      " [3.0 3.0 3.0 ..., 1.1095406360424027 3.0 0.0]\n",
      " [2.0 3.0 3.0 ..., 1.0294464075382805 3.0 2.0]]\n",
      "[ 9.  9.  3.  7.  7.  4.  7.  8.  5.  7.  6.  9.  7.  5.  6.  6. -0.  8.\n",
      "  8.  7.  1.  6.  7.  7.  7.  5.  7.  8.  5.  7.  5. -0.  8.  8.  1.  1.\n",
      "  6. -2.  6.  2.  5.  6.  2.  1.  5.  6.  4.  3.  6.  3. -1.  5.  5.  5.\n",
      "  6.  6.  6. -0.  1.  8.  5.  1.  6.  2.  5.  2.  6.  3.  8. -0.  6.  4.\n",
      "  5.  6.  5.  5. -0.  9.  9.  7.  5.  9.  6.  7.  4.  7.  7.]\n"
     ]
    },
    {
     "data": {
      "text/plain": [
       "87"
      ]
     },
     "execution_count": 34,
     "metadata": {},
     "output_type": "execute_result"
    }
   ],
   "source": [
    "matr = np.array(data)\n",
    "names = matr[0]\n",
    "matr = matr[:, 1:]\n",
    "print(matr)\n",
    "for row in matr:\n",
    "    row += est(row)\n",
    "print(matr)\n",
    "\n",
    "marks = []\n",
    "for row in matr:\n",
    "    mark = np.round(np.mean(row) / 3 * 10)\n",
    "    marks.append(mark)\n",
    "\n",
    "marks = np.array(marks)\n",
    "\n",
    "print(marks)\n",
    "len(marks)"
   ]
  },
  {
   "cell_type": "code",
   "execution_count": 8,
   "metadata": {
    "collapsed": false
   },
   "outputs": [
    {
     "name": "stdout",
     "output_type": "stream",
     "text": [
      "17\n"
     ]
    }
   ],
   "source": [
    "est2 = np.sum(marks < 3.0)\n",
    "print(est2)"
   ]
  },
  {
   "cell_type": "code",
   "execution_count": 9,
   "metadata": {
    "collapsed": false
   },
   "outputs": [
    {
     "name": "stdout",
     "output_type": "stream",
     "text": [
      "8\n"
     ]
    }
   ],
   "source": [
    "est3 = np.sum(np.logical_and(marks >= 3.0, marks < 5.0))\n",
    "print(est3)"
   ]
  },
  {
   "cell_type": "code",
   "execution_count": 10,
   "metadata": {
    "collapsed": false
   },
   "outputs": [
    {
     "name": "stdout",
     "output_type": "stream",
     "text": [
      "48\n"
     ]
    }
   ],
   "source": [
    "est4 = np.sum(np.logical_and(marks >= 5.0, marks < 8.0))\n",
    "print(est4)"
   ]
  },
  {
   "cell_type": "code",
   "execution_count": 22,
   "metadata": {
    "collapsed": false
   },
   "outputs": [
    {
     "name": "stdout",
     "output_type": "stream",
     "text": [
      "14\n"
     ]
    }
   ],
   "source": [
    "est5 = np.sum(marks >= 8.0)\n",
    "print(est5)"
   ]
  },
  {
   "cell_type": "code",
   "execution_count": 25,
   "metadata": {
    "collapsed": false
   },
   "outputs": [
    {
     "name": "stdout",
     "output_type": "stream",
     "text": [
      "2 0.5684158152670258\n",
      "3 0.8664014836022991\n",
      "4 1.1783026391451195\n",
      "5 1.5081982736224748\n",
      "6 1.8499565020188504\n",
      "7 2.097308774472427\n",
      "8 2.408928448272365\n",
      "9 2.6669384796593274\n"
     ]
    }
   ],
   "source": [
    "for mark in range(2, 10):\n",
    "    ids = marks == mark\n",
    "    mean = np.mean(matr[ids])\n",
    "    print(mark, mean)"
   ]
  },
  {
   "cell_type": "code",
   "execution_count": 26,
   "metadata": {
    "collapsed": false
   },
   "outputs": [
    {
     "name": "stdout",
     "output_type": "stream",
     "text": [
      "!= 2 1.8641705640641562\n"
     ]
    }
   ],
   "source": [
    "print (\"!= 2\", np.mean(matr[marks >= 3]))"
   ]
  },
  {
   "cell_type": "code",
   "execution_count": null,
   "metadata": {
    "collapsed": true
   },
   "outputs": [],
   "source": []
  }
 ],
 "metadata": {
  "kernelspec": {
   "display_name": "Python 3",
   "language": "python",
   "name": "python3"
  },
  "language_info": {
   "codemirror_mode": {
    "name": "ipython",
    "version": 3
   },
   "file_extension": ".py",
   "mimetype": "text/x-python",
   "name": "python",
   "nbconvert_exporter": "python",
   "pygments_lexer": "ipython3",
   "version": "3.5.1"
  }
 },
 "nbformat": 4,
 "nbformat_minor": 0
}
