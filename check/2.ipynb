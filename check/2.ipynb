{
 "cells": [
  {
   "cell_type": "code",
   "execution_count": 2,
   "metadata": {
    "collapsed": false
   },
   "outputs": [],
   "source": [
    "import matplotlib.pyplot as plt\n",
    "import numpy.linalg as npm\n",
    "import pandas as pd\n",
    "import numpy as np\n",
    "import math\n",
    "import scipy.stats as sts\n",
    "%matplotlib inline"
   ]
  },
  {
   "cell_type": "code",
   "execution_count": 3,
   "metadata": {
    "collapsed": false
   },
   "outputs": [
    {
     "data": {
      "text/html": [
       "<div>\n",
       "<table border=\"1\" class=\"dataframe\">\n",
       "  <thead>\n",
       "    <tr style=\"text-align: right;\">\n",
       "      <th></th>\n",
       "      <th>0</th>\n",
       "      <th>1</th>\n",
       "      <th>2</th>\n",
       "      <th>3</th>\n",
       "      <th>4</th>\n",
       "    </tr>\n",
       "  </thead>\n",
       "  <tbody>\n",
       "    <tr>\n",
       "      <th>0</th>\n",
       "      <td>-5.466447</td>\n",
       "      <td>1.0</td>\n",
       "      <td>7.942326</td>\n",
       "      <td>1.793864</td>\n",
       "      <td>0.009938</td>\n",
       "    </tr>\n",
       "    <tr>\n",
       "      <th>1</th>\n",
       "      <td>27.385862</td>\n",
       "      <td>1.0</td>\n",
       "      <td>3.745389</td>\n",
       "      <td>7.916537</td>\n",
       "      <td>0.010042</td>\n",
       "    </tr>\n",
       "    <tr>\n",
       "      <th>2</th>\n",
       "      <td>16.178068</td>\n",
       "      <td>1.0</td>\n",
       "      <td>1.637127</td>\n",
       "      <td>4.097489</td>\n",
       "      <td>0.010025</td>\n",
       "    </tr>\n",
       "    <tr>\n",
       "      <th>3</th>\n",
       "      <td>4.864779</td>\n",
       "      <td>1.0</td>\n",
       "      <td>3.860076</td>\n",
       "      <td>2.371178</td>\n",
       "      <td>0.009985</td>\n",
       "    </tr>\n",
       "    <tr>\n",
       "      <th>4</th>\n",
       "      <td>-1.989797</td>\n",
       "      <td>1.0</td>\n",
       "      <td>5.976570</td>\n",
       "      <td>1.686246</td>\n",
       "      <td>0.009957</td>\n",
       "    </tr>\n",
       "  </tbody>\n",
       "</table>\n",
       "</div>"
      ],
      "text/plain": [
       "           0    1         2         3         4\n",
       "0  -5.466447  1.0  7.942326  1.793864  0.009938\n",
       "1  27.385862  1.0  3.745389  7.916537  0.010042\n",
       "2  16.178068  1.0  1.637127  4.097489  0.010025\n",
       "3   4.864779  1.0  3.860076  2.371178  0.009985\n",
       "4  -1.989797  1.0  5.976570  1.686246  0.009957"
      ]
     },
     "execution_count": 3,
     "metadata": {},
     "output_type": "execute_result"
    }
   ],
   "source": [
    "data = pd.read_csv('0.csv', header=None)\n",
    "data.head()"
   ]
  },
  {
   "cell_type": "markdown",
   "metadata": {},
   "source": [
    "Предположим, что зависимость имеет вид 𝑌 = ...\n",
    "Скачайте данные из task2.csv, получив соответствующую выборкуОценкой параметра 𝜃 по методу наименьших квадратов на-\n",
    "зывается величина 𝜃̂︀ = ...\n",
    "... . Посчитайте эту оценку для выданных данных\n",
    "и значение det(...). Сделайте вывод."
   ]
  },
  {
   "cell_type": "code",
   "execution_count": 4,
   "metadata": {
    "collapsed": false,
    "scrolled": true
   },
   "outputs": [],
   "source": [
    "data = np.array(data)\n",
    "Y = np.array(data[:,0])"
   ]
  },
  {
   "cell_type": "code",
   "execution_count": 5,
   "metadata": {
    "collapsed": false,
    "scrolled": false
   },
   "outputs": [],
   "source": [
    "X = np.array(data[:,1:])"
   ]
  },
  {
   "cell_type": "code",
   "execution_count": 6,
   "metadata": {
    "collapsed": false
   },
   "outputs": [],
   "source": [
    "theta = np.dot(np.dot(np.linalg.inv(np.dot(X.T,X)), X.T),Y)"
   ]
  },
  {
   "cell_type": "code",
   "execution_count": 7,
   "metadata": {
    "collapsed": true
   },
   "outputs": [],
   "source": [
    "det = np.linalg.det(np.dot(X.T,X))"
   ]
  },
  {
   "cell_type": "code",
   "execution_count": 8,
   "metadata": {
    "collapsed": false
   },
   "outputs": [
    {
     "data": {
      "text/plain": [
       "array([ -3.13823839e+02,  -1.68185827e+00,   3.68421300e+00,\n",
       "         3.16910941e+04])"
      ]
     },
     "execution_count": 8,
     "metadata": {},
     "output_type": "execute_result"
    }
   ],
   "source": [
    "theta"
   ]
  },
  {
   "cell_type": "code",
   "execution_count": 9,
   "metadata": {
    "collapsed": false
   },
   "outputs": [
    {
     "data": {
      "text/plain": [
       "0.68070070365265545"
      ]
     },
     "execution_count": 9,
     "metadata": {},
     "output_type": "execute_result"
    }
   ],
   "source": [
    "det"
   ]
  },
  {
   "cell_type": "markdown",
   "metadata": {},
   "source": [
    "Сделайте вывод"
   ]
  },
  {
   "cell_type": "code",
   "execution_count": 15,
   "metadata": {
    "collapsed": false
   },
   "outputs": [
    {
     "name": "stdout",
     "output_type": "stream",
     "text": [
      "CPU times: user 0 ns, sys: 0 ns, total: 0 ns\n",
      "Wall time: 372 µs\n"
     ]
    }
   ],
   "source": [
    "%%time\n",
    "la = np.arange(1, 100, 0.1)\n",
    "X = np.matrix(X, dtype = float)\n",
    "Y = np.matrix(Y, dtype = float).T"
   ]
  },
  {
   "cell_type": "code",
   "execution_count": 11,
   "metadata": {
    "collapsed": false,
    "scrolled": false
   },
   "outputs": [],
   "source": [
    "def calc_theta(X,Y,l) :\n",
    "    return np.array(npm.inv(X.T*X + l*np.identity(len(X.T*X)) ) * X.T * Y)\n",
    "def calc_theta_i(l, i) :\n",
    "    return calc_theta(np.delete(X,i,axis=0),np.delete(Y,i,axis=0),l)\n",
    "def trans(x) :\n",
    "    return np.array([x[0][i][0] for i in range(4)])"
   ]
  },
  {
   "cell_type": "code",
   "execution_count": 13,
   "metadata": {
    "collapsed": false
   },
   "outputs": [
    {
     "name": "stdout",
     "output_type": "stream",
     "text": [
      "CPU times: user 1min 54s, sys: 80 ms, total: 1min 54s\n",
      "Wall time: 1min 54s\n"
     ]
    }
   ],
   "source": [
    "%%time\n",
    "a = np.array([ [calc_theta_i(l,i) for i in range(len(X))] for l in la])"
   ]
  },
  {
   "cell_type": "code",
   "execution_count": 187,
   "metadata": {
    "collapsed": false
   },
   "outputs": [
    {
     "name": "stderr",
     "output_type": "stream",
     "text": [
      "/home/avk/Programs/anaconda3/lib/python3.5/site-packages/ipykernel/__main__.py:2: DeprecationWarning: using a non-integer number instead of an integer will result in an error in the future\n",
      "  from ipykernel import kernelapp as app\n"
     ]
    }
   ],
   "source": [
    "N = len(X)\n",
    "aa = np.array([[trans(a[l][i]) for i in range(N)] for l in len(la)])"
   ]
  },
  {
   "cell_type": "code",
   "execution_count": 222,
   "metadata": {
    "collapsed": false
   },
   "outputs": [
    {
     "data": {
      "text/plain": [
       "990"
      ]
     },
     "execution_count": 222,
     "metadata": {},
     "output_type": "execute_result"
    }
   ],
   "source": [
    "s = aa.var(axis=1).T\n",
    "len(s[0])"
   ]
  },
  {
   "cell_type": "code",
   "execution_count": 233,
   "metadata": {
    "collapsed": false
   },
   "outputs": [
    {
     "data": {
      "image/png": "[encoded data removed]",
      "text/plain": [
       "<matplotlib.figure.Figure at 0x7f79af36ae80>"
      ]
     },
     "metadata": {},
     "output_type": "display_data"
    },
    {
     "data": {
      "image/png": "[encoded data removed]",
      "text/plain": [
       "<matplotlib.figure.Figure at 0x7f79af36a400>"
      ]
     },
     "metadata": {},
     "output_type": "display_data"
    },
    {
     "data": {
      "image/png": "[encoded data removed]",
      "text/plain": [
       "<matplotlib.figure.Figure at 0x7f79af5f1160>"
      ]
     },
     "metadata": {},
     "output_type": "display_data"
    },
    {
     "data": {
      "image/png": "[encoded data removed]",
      "text/plain": [
       "<matplotlib.figure.Figure at 0x7f79af96cf28>"
      ]
     },
     "metadata": {},
     "output_type": "display_data"
    }
   ],
   "source": [
    "colors = ['green', 'red', 'yellow', 'blue']\n",
    "def draw(sigma, i, ylim) :\n",
    "    #plt.figure(figsize=(20,10))\n",
    "    plt.plot(la, sigma, color=colors[i], label='theta' + str(i))\n",
    "    plt.legend(loc='center left', bbox_to_anchor=(0.7, 0.7), fontsize = 30)\n",
    "    plt.ylim(0,ylim)\n",
    "    plt.show()\n",
    "\n",
    "draw(s[0], 0, 0.0000003)\n",
    "draw(s[1], 1, 0.000000003)\n",
    "draw(s[2], 2, 0.000000003)\n",
    "draw(s[3], 3, 0.00000000003)"
   ]
  },
  {
   "cell_type": "markdown",
   "metadata": {},
   "source": [
    "Самое оптимальное лямбда - самое маленькое"
   ]
  },
  {
   "cell_type": "code",
   "execution_count": 296,
   "metadata": {
    "collapsed": false
   },
   "outputs": [
    {
     "name": "stderr",
     "output_type": "stream",
     "text": [
      "/home/avk/Programs/anaconda3/lib/python3.5/site-packages/matplotlib/axes/_axes.py:519: UserWarning: No labelled objects found. Use label='...' kwarg on individual plots.\n",
      "  warnings.warn(\"No labelled objects found. \"\n"
     ]
    },
    {
     "data": {
      "image/png": "[encoded data removed]",
      "text/plain": [
       "<matplotlib.figure.Figure at 0x7f79af7c86d8>"
      ]
     },
     "metadata": {},
     "output_type": "display_data"
    },
    {
     "data": {
      "image/png": "[encoded data removed]",
      "text/plain": [
       "<matplotlib.figure.Figure at 0x7f79af7f2198>"
      ]
     },
     "metadata": {},
     "output_type": "display_data"
    },
    {
     "data": {
      "image/png": "[encoded data removed]",
      "text/plain": [
       "<matplotlib.figure.Figure at 0x7f79af97b160>"
      ]
     },
     "metadata": {},
     "output_type": "display_data"
    },
    {
     "data": {
      "image/png": "[encoded data removed]",
      "text/plain": [
       "<matplotlib.figure.Figure at 0x7f79af992438>"
      ]
     },
     "metadata": {},
     "output_type": "display_data"
    }
   ],
   "source": [
    "N = len(la)\n",
    "colors = ['green', 'red', 'yellow', 'blue']\n",
    "est_left = np.array([aa[i].min(axis=0) for i in range(N)])\n",
    "est_right = np.array([aa[i].max(axis=0) for i in range(N)])\n",
    "def draw1(l, r, i, b, a) :\n",
    "    #plt.figure(figsize=(20,10))\n",
    "    plt.fill_between(la, l, r, color = colors[i])\n",
    "    plt.legend(loc='center left', bbox_to_anchor=(0.7, 0.7), fontsize = 30)\n",
    "    plt.ylim(b,a)\n",
    "    plt.show()\n",
    "\n",
    "draw1(est_left.T[0], est_right.T[0], 0, 2.87, 3.2)\n",
    "draw1(est_left.T[1], est_right.T[1], 1, -2, -1.98)\n",
    "draw1(est_left.T[2], est_right.T[2], 2, 4.001, 4.015)\n",
    "draw1(est_left.T[3], est_right.T[3], 3, 0.029, 0.031)\n"
   ]
  },
  {
   "cell_type": "code",
   "execution_count": 294,
   "metadata": {
    "collapsed": false
   },
   "outputs": [
    {
     "name": "stdout",
     "output_type": "stream",
     "text": [
      "[ 0.03069903  0.03069903  0.03069903  0.03069903  0.03069903  0.03069903\n",
      "  0.03069903  0.03069903  0.03069903  0.03069903  0.03067947  0.03067947\n",
      "  0.03067947  0.03067947  0.03067947  0.03067947  0.03067947  0.03067947\n",
      "  0.03067947  0.03067947  0.03065994  0.03065994  0.03065994  0.03065994\n",
      "  0.03065994  0.03065994  0.03065994  0.03065994  0.03065994  0.03065994\n",
      "  0.03064044  0.03064044  0.03064044  0.03064044  0.03064044  0.03064044\n",
      "  0.03064044  0.03064044  0.03064044  0.03064044  0.03062098  0.03062098\n",
      "  0.03062098  0.03062098  0.03062098  0.03062098  0.03062098  0.03062098\n",
      "  0.03062098  0.03062098  0.03060154  0.03060154  0.03060154  0.03060154\n",
      "  0.03060154  0.03060154  0.03060154  0.03060154  0.03060154  0.03060154\n",
      "  0.03058212  0.03058212  0.03058212  0.03058212  0.03058212  0.03058212\n",
      "  0.03058212  0.03058212  0.03058212  0.03058212  0.03056274  0.03056274\n",
      "  0.03056274  0.03056274  0.03056274  0.03056274  0.03056274  0.03056274\n",
      "  0.03056274  0.03056274  0.03054338  0.03054338  0.03054338  0.03054338\n",
      "  0.03054338  0.03054338  0.03054338  0.03054338  0.03054338  0.03054338\n",
      "  0.03052405  0.03052405  0.03052405  0.03052405  0.03052405  0.03052405\n",
      "  0.03052405  0.03052405  0.03052405  0.03052405  0.03050471  0.03050471\n",
      "  0.03050471  0.03050471  0.03050471  0.03050471  0.03050471  0.03050471\n",
      "  0.03050471  0.03050471  0.03048538  0.03048538  0.03048538  0.03048538\n",
      "  0.03048538  0.03048538  0.03048538  0.03048538  0.03048538  0.03048538\n",
      "  0.03046608  0.03046608  0.03046608  0.03046608  0.03046608  0.03046608\n",
      "  0.03046608  0.03046608  0.03046608  0.03046608  0.03044681  0.03044681\n",
      "  0.03044681  0.03044681  0.03044681  0.03044681  0.03044681  0.03044681\n",
      "  0.03044681  0.03044681  0.03042757  0.03042757  0.03042757  0.03042757\n",
      "  0.03042757  0.03042757  0.03042757  0.03042757  0.03042757  0.03042757\n",
      "  0.03040835  0.03040835  0.03040835  0.03040835  0.03040835  0.03040835\n",
      "  0.03040835  0.03040835  0.03040835  0.03040835  0.03038916  0.03038916\n",
      "  0.03038916  0.03038916  0.03038916  0.03038916  0.03038916  0.03038916\n",
      "  0.03038916  0.03038916  0.03036999  0.03036999  0.03036999  0.03036999\n",
      "  0.03036999  0.03036999  0.03036999  0.03036999  0.03036999  0.03036999\n",
      "  0.03035085  0.03035085  0.03035085  0.03035085  0.03035085  0.03035085\n",
      "  0.03035085  0.03035085  0.03035085  0.03035085  0.03033174  0.03033174\n",
      "  0.03033174  0.03033174  0.03033174  0.03033174  0.03033174  0.03033174\n",
      "  0.03033174  0.03033174  0.03031265  0.03031265  0.03031265  0.03031265\n",
      "  0.03031265  0.03031265  0.03031265  0.03031265  0.03031265  0.03031265\n",
      "  0.03029359  0.03029359  0.03029359  0.03029359  0.03029359  0.03029359\n",
      "  0.03029359  0.03029359  0.03029359  0.03029359  0.03027455  0.03027455\n",
      "  0.03027455  0.03027455  0.03027455  0.03027455  0.03027455  0.03027455\n",
      "  0.03027455  0.03027455  0.03025555  0.03025555  0.03025555  0.03025555\n",
      "  0.03025555  0.03025555  0.03025555  0.03025555  0.03025555  0.03025555\n",
      "  0.03023656  0.03023656  0.03023656  0.03023656  0.03023656  0.03023656\n",
      "  0.03023656  0.03023656  0.03023656  0.03023656  0.03021761  0.03021761\n",
      "  0.03021761  0.03021761  0.03021761  0.03021761  0.03021761  0.03021761\n",
      "  0.03021761  0.03021761  0.03019867  0.03019867  0.03019867  0.03019867\n",
      "  0.03019867  0.03019867  0.03019867  0.03019867  0.03019867  0.03019867\n",
      "  0.03017977  0.03017977  0.03017977  0.03017977  0.03017977  0.03017977\n",
      "  0.03017977  0.03017977  0.03017977  0.03017977  0.03016089  0.03016089\n",
      "  0.03016089  0.03016089  0.03016089  0.03016089  0.03016089  0.03016089\n",
      "  0.03016089  0.03016089  0.03014204  0.03014204  0.03014204  0.03014204\n",
      "  0.03014204  0.03014204  0.03014204  0.03014204  0.03014204  0.03014204\n",
      "  0.03012321  0.03012321  0.03012321  0.03012321  0.03012321  0.03012321\n",
      "  0.03012321  0.03012321  0.03012321  0.03012321  0.0301044   0.0301044\n",
      "  0.0301044   0.0301044   0.0301044   0.0301044   0.0301044   0.0301044\n",
      "  0.0301044   0.0301044   0.03008563  0.03008563  0.03008563  0.03008563\n",
      "  0.03008563  0.03008563  0.03008563  0.03008563  0.03008563  0.03008563\n",
      "  0.03006687  0.03006687  0.03006687  0.03006687  0.03006687  0.03006687\n",
      "  0.03006687  0.03006687  0.03006687  0.03006687  0.03004815  0.03004815\n",
      "  0.03004815  0.03004815  0.03004815  0.03004815  0.03004815  0.03004815\n",
      "  0.03004815  0.03004815  0.03002944  0.03002944  0.03002944  0.03002944\n",
      "  0.03002944  0.03002944  0.03002944  0.03002944  0.03002944  0.03002944\n",
      "  0.03001077  0.03001077  0.03001077  0.03001077  0.03001077  0.03001077\n",
      "  0.03001077  0.03001077  0.03001077  0.03001077  0.02999212  0.02999212\n",
      "  0.02999212  0.02999212  0.02999212  0.02999212  0.02999212  0.02999212\n",
      "  0.02999212  0.02999212  0.02997349  0.02997349  0.02997349  0.02997349\n",
      "  0.02997349  0.02997349  0.02997349  0.02997349  0.02997349  0.02997349\n",
      "  0.02995489  0.02995489  0.02995489  0.02995489  0.02995489  0.02995489\n",
      "  0.02995489  0.02995489  0.02995489  0.02995489  0.02993631  0.02993631\n",
      "  0.02993631  0.02993631  0.02993631  0.02993631  0.02993631  0.02993631\n",
      "  0.02993631  0.02993631  0.02991776  0.02991776  0.02991776  0.02991776\n",
      "  0.02991776  0.02991776  0.02991776  0.02991776  0.02991776  0.02991776\n",
      "  0.02989923  0.02989923  0.02989923  0.02989923  0.02989923  0.02989923\n",
      "  0.02989923  0.02989923  0.02989923  0.02989923  0.02988073  0.02988073\n",
      "  0.02988073  0.02988073  0.02988073  0.02988073  0.02988073  0.02988073\n",
      "  0.02988073  0.02988073  0.02986225  0.02986225  0.02986225  0.02986225\n",
      "  0.02986225  0.02986225  0.02986225  0.02986225  0.02986225  0.02986225\n",
      "  0.0298438   0.0298438   0.0298438   0.0298438   0.0298438   0.0298438\n",
      "  0.0298438   0.0298438   0.0298438   0.0298438   0.02982537  0.02982537\n",
      "  0.02982537  0.02982537  0.02982537  0.02982537  0.02982537  0.02982537\n",
      "  0.02982537  0.02982537  0.02980697  0.02980697  0.02980697  0.02980697\n",
      "  0.02980697  0.02980697  0.02980697  0.02980697  0.02980697  0.02980697\n",
      "  0.02978859  0.02978859  0.02978859  0.02978859  0.02978859  0.02978859\n",
      "  0.02978859  0.02978859  0.02978859  0.02978859  0.02977024  0.02977024\n",
      "  0.02977024  0.02977024  0.02977024  0.02977024  0.02977024  0.02977024\n",
      "  0.02977024  0.02977024  0.02975191  0.02975191  0.02975191  0.02975191\n",
      "  0.02975191  0.02975191  0.02975191  0.02975191  0.02975191  0.02975191\n",
      "  0.0297336   0.0297336   0.0297336   0.0297336   0.0297336   0.0297336\n",
      "  0.0297336   0.0297336   0.0297336   0.0297336   0.02971532  0.02971532\n",
      "  0.02971532  0.02971532  0.02971532  0.02971532  0.02971532  0.02971532\n",
      "  0.02971532  0.02971532  0.02969707  0.02969707  0.02969707  0.02969707\n",
      "  0.02969707  0.02969707  0.02969707  0.02969707  0.02969707  0.02969707\n",
      "  0.02967883  0.02967883  0.02967883  0.02967883  0.02967883  0.02967883\n",
      "  0.02967883  0.02967883  0.02967883  0.02967883  0.02966062  0.02966062\n",
      "  0.02966062  0.02966062  0.02966062  0.02966062  0.02966062  0.02966062\n",
      "  0.02966062  0.02966062  0.02964244  0.02964244  0.02964244  0.02964244\n",
      "  0.02964244  0.02964244  0.02964244  0.02964244  0.02964244  0.02964244\n",
      "  0.02962428  0.02962428  0.02962428  0.02962428  0.02962428  0.02962428\n",
      "  0.02962428  0.02962428  0.02962428  0.02962428  0.02960615  0.02960615\n",
      "  0.02960615  0.02960615  0.02960615  0.02960615  0.02960615  0.02960615\n",
      "  0.02960615  0.02960615  0.02958803  0.02958803  0.02958803  0.02958803\n",
      "  0.02958803  0.02958803  0.02958803  0.02958803  0.02958803  0.02958803\n",
      "  0.02956995  0.02956995  0.02956995  0.02956995  0.02956995  0.02956995\n",
      "  0.02956995  0.02956995  0.02956995  0.02956995  0.02955188  0.02955188\n",
      "  0.02955188  0.02955188  0.02955188  0.02955188  0.02955188  0.02955188\n",
      "  0.02955188  0.02955188  0.02953384  0.02953384  0.02953384  0.02953384\n",
      "  0.02953384  0.02953384  0.02953384  0.02953384  0.02953384  0.02953384\n",
      "  0.02951583  0.02951583  0.02951583  0.02951583  0.02951583  0.02951583\n",
      "  0.02951583  0.02951583  0.02951583  0.02951583  0.02949783  0.02949783\n",
      "  0.02949783  0.02949783  0.02949783  0.02949783  0.02949783  0.02949783\n",
      "  0.02949783  0.02949783  0.02947987  0.02947987  0.02947987  0.02947987\n",
      "  0.02947987  0.02947987  0.02947987  0.02947987  0.02947987  0.02947987\n",
      "  0.02946192  0.02946192  0.02946192  0.02946192  0.02946192  0.02946192\n",
      "  0.02946192  0.02946192  0.02946192  0.02946192  0.029444    0.029444\n",
      "  0.029444    0.029444    0.029444    0.029444    0.029444    0.029444\n",
      "  0.029444    0.029444    0.0294261   0.0294261   0.0294261   0.0294261\n",
      "  0.0294261   0.0294261   0.0294261   0.0294261   0.0294261   0.0294261\n",
      "  0.02940823  0.02940823  0.02940823  0.02940823  0.02940823  0.02940823\n",
      "  0.02940823  0.02940823  0.02940823  0.02940823  0.02939038  0.02939038\n",
      "  0.02939038  0.02939038  0.02939038  0.02939038  0.02939038  0.02939038\n",
      "  0.02939038  0.02939038  0.02937255  0.02937255  0.02937255  0.02937255\n",
      "  0.02937255  0.02937255  0.02937255  0.02937255  0.02937255  0.02937255\n",
      "  0.02935475  0.02935475  0.02935475  0.02935475  0.02935475  0.02935475\n",
      "  0.02935475  0.02935475  0.02935475  0.02935475  0.02933697  0.02933697\n",
      "  0.02933697  0.02933697  0.02933697  0.02933697  0.02933697  0.02933697\n",
      "  0.02933697  0.02933697  0.02931921  0.02931921  0.02931921  0.02931921\n",
      "  0.02931921  0.02931921  0.02931921  0.02931921  0.02931921  0.02931921\n",
      "  0.02930147  0.02930147  0.02930147  0.02930147  0.02930147  0.02930147\n",
      "  0.02930147  0.02930147  0.02930147  0.02930147  0.02928376  0.02928376\n",
      "  0.02928376  0.02928376  0.02928376  0.02928376  0.02928376  0.02928376\n",
      "  0.02928376  0.02928376  0.02926608  0.02926608  0.02926608  0.02926608\n",
      "  0.02926608  0.02926608  0.02926608  0.02926608  0.02926608  0.02926608\n",
      "  0.02924841  0.02924841  0.02924841  0.02924841  0.02924841  0.02924841\n",
      "  0.02924841  0.02924841  0.02924841  0.02924841  0.02923077  0.02923077\n",
      "  0.02923077  0.02923077  0.02923077  0.02923077  0.02923077  0.02923077\n",
      "  0.02923077  0.02923077  0.02921315  0.02921315  0.02921315  0.02921315\n",
      "  0.02921315  0.02921315  0.02921315  0.02921315  0.02921315  0.02921315\n",
      "  0.02919556  0.02919556  0.02919556  0.02919556  0.02919556  0.02919556\n",
      "  0.02919556  0.02919556  0.02919556  0.02919556  0.02917798  0.02917798\n",
      "  0.02917798  0.02917798  0.02917798  0.02917798  0.02917798  0.02917798\n",
      "  0.02917798  0.02917798  0.02916044  0.02916044  0.02916044  0.02916044\n",
      "  0.02916044  0.02916044  0.02916044  0.02916044  0.02916044  0.02916044\n",
      "  0.02914291  0.02914291  0.02914291  0.02914291  0.02914291  0.02914291\n",
      "  0.02914291  0.02914291  0.02914291  0.02914291  0.0291254   0.0291254\n",
      "  0.0291254   0.0291254   0.0291254   0.0291254   0.0291254   0.0291254\n",
      "  0.0291254   0.0291254   0.02910792  0.02910792  0.02910792  0.02910792\n",
      "  0.02910792  0.02910792  0.02910792  0.02910792  0.02910792  0.02910792\n",
      "  0.02909047  0.02909047  0.02909047  0.02909047  0.02909047  0.02909047\n",
      "  0.02909047  0.02909047  0.02909047  0.02909047  0.02907303  0.02907303\n",
      "  0.02907303  0.02907303  0.02907303  0.02907303  0.02907303  0.02907303\n",
      "  0.02907303  0.02907303  0.02905562  0.02905562  0.02905562  0.02905562\n",
      "  0.02905562  0.02905562  0.02905562  0.02905562  0.02905562  0.02905562\n",
      "  0.02903823  0.02903823  0.02903823  0.02903823  0.02903823  0.02903823\n",
      "  0.02903823  0.02903823  0.02903823  0.02903823  0.02902086  0.02902086\n",
      "  0.02902086  0.02902086  0.02902086  0.02902086  0.02902086  0.02902086\n",
      "  0.02902086  0.02902086  0.02900351  0.02900351  0.02900351  0.02900351\n",
      "  0.02900351  0.02900351  0.02900351  0.02900351  0.02900351  0.02900351\n",
      "  0.02898619  0.02898619  0.02898619  0.02898619  0.02898619  0.02898619\n",
      "  0.02898619  0.02898619  0.02898619  0.02898619  0.02896889  0.02896889\n",
      "  0.02896889  0.02896889  0.02896889  0.02896889  0.02896889  0.02896889\n",
      "  0.02896889  0.02896889  0.02895161  0.02895161  0.02895161  0.02895161\n",
      "  0.02895161  0.02895161  0.02895161  0.02895161  0.02895161  0.02895161\n",
      "  0.02893436  0.02893436  0.02893436  0.02893436  0.02893436  0.02893436\n",
      "  0.02893436  0.02893436  0.02893436  0.02893436  0.02891712  0.02891712\n",
      "  0.02891712  0.02891712  0.02891712  0.02891712  0.02891712  0.02891712\n",
      "  0.02891712  0.02891712  0.02889991  0.02889991  0.02889991  0.02889991\n",
      "  0.02889991  0.02889991  0.02889991  0.02889991  0.02889991  0.02889991]\n"
     ]
    }
   ],
   "source": [
    "print(est_left.T[3])\n",
    "print(est_right.T[3])"
   ]
  },
  {
   "cell_type": "code",
   "execution_count": 295,
   "metadata": {
    "collapsed": false,
    "scrolled": true
   },
   "outputs": [
    {
     "name": "stdout",
     "output_type": "stream",
     "text": [
      "[ 0.03072254  0.03072254  0.03072254  0.03072254  0.03072254  0.03072254\n",
      "  0.03072254  0.03072254  0.03072254  0.03072254  0.03070292  0.03070292\n",
      "  0.03070292  0.03070292  0.03070292  0.03070292  0.03070292  0.03070292\n",
      "  0.03070292  0.03070292  0.03068333  0.03068333  0.03068333  0.03068333\n",
      "  0.03068333  0.03068333  0.03068333  0.03068333  0.03068333  0.03068333\n",
      "  0.03066377  0.03066377  0.03066377  0.03066377  0.03066377  0.03066377\n",
      "  0.03066377  0.03066377  0.03066377  0.03066377  0.03064423  0.03064423\n",
      "  0.03064423  0.03064423  0.03064423  0.03064423  0.03064423  0.03064423\n",
      "  0.03064423  0.03064423  0.03062473  0.03062473  0.03062473  0.03062473\n",
      "  0.03062473  0.03062473  0.03062473  0.03062473  0.03062473  0.03062473\n",
      "  0.03060525  0.03060525  0.03060525  0.03060525  0.03060525  0.03060525\n",
      "  0.03060525  0.03060525  0.03060525  0.03060525  0.03058581  0.03058581\n",
      "  0.03058581  0.03058581  0.03058581  0.03058581  0.03058581  0.03058581\n",
      "  0.03058581  0.03058581  0.03056639  0.03056639  0.03056639  0.03056639\n",
      "  0.03056639  0.03056639  0.03056639  0.03056639  0.03056639  0.03056639\n",
      "  0.03054699  0.03054699  0.03054699  0.03054699  0.03054699  0.03054699\n",
      "  0.03054699  0.03054699  0.03054699  0.03054699  0.03052763  0.03052763\n",
      "  0.03052763  0.03052763  0.03052763  0.03052763  0.03052763  0.03052763\n",
      "  0.03052763  0.03052763  0.03050829  0.03050829  0.03050829  0.03050829\n",
      "  0.03050829  0.03050829  0.03050829  0.03050829  0.03050829  0.03050829\n",
      "  0.03048898  0.03048898  0.03048898  0.03048898  0.03048898  0.03048898\n",
      "  0.03048898  0.03048898  0.03048898  0.03048898  0.0304697   0.0304697\n",
      "  0.0304697   0.0304697   0.0304697   0.0304697   0.0304697   0.0304697\n",
      "  0.0304697   0.0304697   0.03045044  0.03045044  0.03045044  0.03045044\n",
      "  0.03045044  0.03045044  0.03045044  0.03045044  0.03045044  0.03045044\n",
      "  0.03043121  0.03043121  0.03043121  0.03043121  0.03043121  0.03043121\n",
      "  0.03043121  0.03043121  0.03043121  0.03043121  0.030412    0.030412\n",
      "  0.030412    0.030412    0.030412    0.030412    0.030412    0.030412\n",
      "  0.030412    0.030412    0.03039282  0.03039282  0.03039282  0.03039282\n",
      "  0.03039282  0.03039282  0.03039282  0.03039282  0.03039282  0.03039282\n",
      "  0.03037367  0.03037367  0.03037367  0.03037367  0.03037367  0.03037367\n",
      "  0.03037367  0.03037367  0.03037367  0.03037367  0.03035455  0.03035455\n",
      "  0.03035455  0.03035455  0.03035455  0.03035455  0.03035455  0.03035455\n",
      "  0.03035455  0.03035455  0.03033545  0.03033545  0.03033545  0.03033545\n",
      "  0.03033545  0.03033545  0.03033545  0.03033545  0.03033545  0.03033545\n",
      "  0.03031638  0.03031638  0.03031638  0.03031638  0.03031638  0.03031638\n",
      "  0.03031638  0.03031638  0.03031638  0.03031638  0.03029733  0.03029733\n",
      "  0.03029733  0.03029733  0.03029733  0.03029733  0.03029733  0.03029733\n",
      "  0.03029733  0.03029733  0.03027831  0.03027831  0.03027831  0.03027831\n",
      "  0.03027831  0.03027831  0.03027831  0.03027831  0.03027831  0.03027831\n",
      "  0.03025931  0.03025931  0.03025931  0.03025931  0.03025931  0.03025931\n",
      "  0.03025931  0.03025931  0.03025931  0.03025931  0.03024034  0.03024034\n",
      "  0.03024034  0.03024034  0.03024034  0.03024034  0.03024034  0.03024034\n",
      "  0.03024034  0.03024034  0.0302214   0.0302214   0.0302214   0.0302214\n",
      "  0.0302214   0.0302214   0.0302214   0.0302214   0.0302214   0.0302214\n",
      "  0.03020248  0.03020248  0.03020248  0.03020248  0.03020248  0.03020248\n",
      "  0.03020248  0.03020248  0.03020248  0.03020248  0.03018359  0.03018359\n",
      "  0.03018359  0.03018359  0.03018359  0.03018359  0.03018359  0.03018359\n",
      "  0.03018359  0.03018359  0.03016472  0.03016472  0.03016472  0.03016472\n",
      "  0.03016472  0.03016472  0.03016472  0.03016472  0.03016472  0.03016472\n",
      "  0.03014588  0.03014588  0.03014588  0.03014588  0.03014588  0.03014588\n",
      "  0.03014588  0.03014588  0.03014588  0.03014588  0.03012707  0.03012707\n",
      "  0.03012707  0.03012707  0.03012707  0.03012707  0.03012707  0.03012707\n",
      "  0.03012707  0.03012707  0.03010828  0.03010828  0.03010828  0.03010828\n",
      "  0.03010828  0.03010828  0.03010828  0.03010828  0.03010828  0.03010828\n",
      "  0.03008951  0.03008951  0.03008951  0.03008951  0.03008951  0.03008951\n",
      "  0.03008951  0.03008951  0.03008951  0.03008951  0.03007077  0.03007077\n",
      "  0.03007077  0.03007077  0.03007077  0.03007077  0.03007077  0.03007077\n",
      "  0.03007077  0.03007077  0.03005206  0.03005206  0.03005206  0.03005206\n",
      "  0.03005206  0.03005206  0.03005206  0.03005206  0.03005206  0.03005206\n",
      "  0.03003337  0.03003337  0.03003337  0.03003337  0.03003337  0.03003337\n",
      "  0.03003337  0.03003337  0.03003337  0.03003337  0.03001471  0.03001471\n",
      "  0.03001471  0.03001471  0.03001471  0.03001471  0.03001471  0.03001471\n",
      "  0.03001471  0.03001471  0.02999607  0.02999607  0.02999607  0.02999607\n",
      "  0.02999607  0.02999607  0.02999607  0.02999607  0.02999607  0.02999607\n",
      "  0.02997746  0.02997746  0.02997746  0.02997746  0.02997746  0.02997746\n",
      "  0.02997746  0.02997746  0.02997746  0.02997746  0.0299589   0.0299589\n",
      "  0.0299589   0.0299589   0.0299589   0.0299589   0.0299589   0.0299589\n",
      "  0.0299589   0.0299589   0.02994038  0.02994038  0.02994038  0.02994038\n",
      "  0.02994038  0.02994038  0.02994038  0.02994038  0.02994038  0.02994038\n",
      "  0.02992189  0.02992189  0.02992189  0.02992189  0.02992189  0.02992189\n",
      "  0.02992189  0.02992189  0.02992189  0.02992189  0.02990342  0.02990342\n",
      "  0.02990342  0.02990342  0.02990342  0.02990342  0.02990342  0.02990342\n",
      "  0.02990342  0.02990342  0.02988497  0.02988497  0.02988497  0.02988497\n",
      "  0.02988497  0.02988497  0.02988497  0.02988497  0.02988497  0.02988497\n",
      "  0.02986656  0.02986656  0.02986656  0.02986656  0.02986656  0.02986656\n",
      "  0.02986656  0.02986656  0.02986656  0.02986656  0.02984816  0.02984816\n",
      "  0.02984816  0.02984816  0.02984816  0.02984816  0.02984816  0.02984816\n",
      "  0.02984816  0.02984816  0.02982979  0.02982979  0.02982979  0.02982979\n",
      "  0.02982979  0.02982979  0.02982979  0.02982979  0.02982979  0.02982979\n",
      "  0.02981144  0.02981144  0.02981144  0.02981144  0.02981144  0.02981144\n",
      "  0.02981144  0.02981144  0.02981144  0.02981144  0.02979312  0.02979312\n",
      "  0.02979312  0.02979312  0.02979312  0.02979312  0.02979312  0.02979312\n",
      "  0.02979312  0.02979312  0.02977483  0.02977483  0.02977483  0.02977483\n",
      "  0.02977483  0.02977483  0.02977483  0.02977483  0.02977483  0.02977483\n",
      "  0.02975655  0.02975655  0.02975655  0.02975655  0.02975655  0.02975655\n",
      "  0.02975655  0.02975655  0.02975655  0.02975655  0.0297383   0.0297383\n",
      "  0.0297383   0.0297383   0.0297383   0.0297383   0.0297383   0.0297383\n",
      "  0.0297383   0.0297383   0.02972008  0.02972008  0.02972008  0.02972008\n",
      "  0.02972008  0.02972008  0.02972008  0.02972008  0.02972008  0.02972008\n",
      "  0.02970188  0.02970188  0.02970188  0.02970188  0.02970188  0.02970188\n",
      "  0.02970188  0.02970188  0.02970188  0.02970188  0.0296837   0.0296837\n",
      "  0.0296837   0.0296837   0.0296837   0.0296837   0.0296837   0.0296837\n",
      "  0.0296837   0.0296837   0.02966555  0.02966555  0.02966555  0.02966555\n",
      "  0.02966555  0.02966555  0.02966555  0.02966555  0.02966555  0.02966555\n",
      "  0.02964742  0.02964742  0.02964742  0.02964742  0.02964742  0.02964742\n",
      "  0.02964742  0.02964742  0.02964742  0.02964742  0.02962932  0.02962932\n",
      "  0.02962932  0.02962932  0.02962932  0.02962932  0.02962932  0.02962932\n",
      "  0.02962932  0.02962932  0.02961124  0.02961124  0.02961124  0.02961124\n",
      "  0.02961124  0.02961124  0.02961124  0.02961124  0.02961124  0.02961124\n",
      "  0.02959318  0.02959318  0.02959318  0.02959318  0.02959318  0.02959318\n",
      "  0.02959318  0.02959318  0.02959318  0.02959318  0.02957515  0.02957515\n",
      "  0.02957515  0.02957515  0.02957515  0.02957515  0.02957515  0.02957515\n",
      "  0.02957515  0.02957515  0.02955714  0.02955714  0.02955714  0.02955714\n",
      "  0.02955714  0.02955714  0.02955714  0.02955714  0.02955714  0.02955714\n",
      "  0.02953916  0.02953916  0.02953916  0.02953916  0.02953916  0.02953916\n",
      "  0.02953916  0.02953916  0.02953916  0.02953916  0.02952122  0.02952122\n",
      "  0.02952122  0.02952122  0.02952122  0.02952122  0.02952122  0.02952122\n",
      "  0.02952122  0.02952122  0.0295033   0.0295033   0.0295033   0.0295033\n",
      "  0.0295033   0.0295033   0.0295033   0.0295033   0.0295033   0.0295033\n",
      "  0.0294854   0.0294854   0.0294854   0.0294854   0.0294854   0.0294854\n",
      "  0.0294854   0.0294854   0.0294854   0.0294854   0.02946753  0.02946753\n",
      "  0.02946753  0.02946753  0.02946753  0.02946753  0.02946753  0.02946753\n",
      "  0.02946753  0.02946753  0.02944968  0.02944968  0.02944968  0.02944968\n",
      "  0.02944968  0.02944968  0.02944968  0.02944968  0.02944968  0.02944968\n",
      "  0.02943185  0.02943185  0.02943185  0.02943185  0.02943185  0.02943185\n",
      "  0.02943185  0.02943185  0.02943185  0.02943185  0.02941405  0.02941405\n",
      "  0.02941405  0.02941405  0.02941405  0.02941405  0.02941405  0.02941405\n",
      "  0.02941405  0.02941405  0.02939627  0.02939627  0.02939627  0.02939627\n",
      "  0.02939627  0.02939627  0.02939627  0.02939627  0.02939627  0.02939627\n",
      "  0.02937852  0.02937852  0.02937852  0.02937852  0.02937852  0.02937852\n",
      "  0.02937852  0.02937852  0.02937852  0.02937852  0.02936078  0.02936078\n",
      "  0.02936078  0.02936078  0.02936078  0.02936078  0.02936078  0.02936078\n",
      "  0.02936078  0.02936078  0.02934307  0.02934307  0.02934307  0.02934307\n",
      "  0.02934307  0.02934307  0.02934307  0.02934307  0.02934307  0.02934307\n",
      "  0.02932539  0.02932539  0.02932539  0.02932539  0.02932539  0.02932539\n",
      "  0.02932539  0.02932539  0.02932539  0.02932539  0.02930772  0.02930772\n",
      "  0.02930772  0.02930772  0.02930772  0.02930772  0.02930772  0.02930772\n",
      "  0.02930772  0.02930772  0.02929008  0.02929008  0.02929008  0.02929008\n",
      "  0.02929008  0.02929008  0.02929008  0.02929008  0.02929008  0.02929008\n",
      "  0.02927247  0.02927247  0.02927247  0.02927247  0.02927247  0.02927247\n",
      "  0.02927247  0.02927247  0.02927247  0.02927247  0.02925487  0.02925487\n",
      "  0.02925487  0.02925487  0.02925487  0.02925487  0.02925487  0.02925487\n",
      "  0.02925487  0.02925487  0.0292373   0.0292373   0.0292373   0.0292373\n",
      "  0.0292373   0.0292373   0.0292373   0.0292373   0.0292373   0.0292373\n",
      "  0.02921975  0.02921975  0.02921975  0.02921975  0.02921975  0.02921975\n",
      "  0.02921975  0.02921975  0.02921975  0.02921975  0.02920223  0.02920223\n",
      "  0.02920223  0.02920223  0.02920223  0.02920223  0.02920223  0.02920223\n",
      "  0.02920223  0.02920223  0.02918472  0.02918472  0.02918472  0.02918472\n",
      "  0.02918472  0.02918472  0.02918472  0.02918472  0.02918472  0.02918472\n",
      "  0.02916724  0.02916724  0.02916724  0.02916724  0.02916724  0.02916724\n",
      "  0.02916724  0.02916724  0.02916724  0.02916724  0.02914978  0.02914978\n",
      "  0.02914978  0.02914978  0.02914978  0.02914978  0.02914978  0.02914978\n",
      "  0.02914978  0.02914978  0.02913235  0.02913235  0.02913235  0.02913235\n",
      "  0.02913235  0.02913235  0.02913235  0.02913235  0.02913235  0.02913235\n",
      "  0.02911494  0.02911494  0.02911494  0.02911494  0.02911494  0.02911494\n",
      "  0.02911494  0.02911494  0.02911494  0.02911494  0.02909755  0.02909755\n",
      "  0.02909755  0.02909755  0.02909755  0.02909755  0.02909755  0.02909755\n",
      "  0.02909755  0.02909755  0.02908018  0.02908018  0.02908018  0.02908018\n",
      "  0.02908018  0.02908018  0.02908018  0.02908018  0.02908018  0.02908018\n",
      "  0.02906283  0.02906283  0.02906283  0.02906283  0.02906283  0.02906283\n",
      "  0.02906283  0.02906283  0.02906283  0.02906283  0.02904551  0.02904551\n",
      "  0.02904551  0.02904551  0.02904551  0.02904551  0.02904551  0.02904551\n",
      "  0.02904551  0.02904551  0.02902821  0.02902821  0.02902821  0.02902821\n",
      "  0.02902821  0.02902821  0.02902821  0.02902821  0.02902821  0.02902821\n",
      "  0.02901093  0.02901093  0.02901093  0.02901093  0.02901093  0.02901093\n",
      "  0.02901093  0.02901093  0.02901093  0.02901093  0.02899368  0.02899368\n",
      "  0.02899368  0.02899368  0.02899368  0.02899368  0.02899368  0.02899368\n",
      "  0.02899368  0.02899368  0.02897644  0.02897644  0.02897644  0.02897644\n",
      "  0.02897644  0.02897644  0.02897644  0.02897644  0.02897644  0.02897644\n",
      "  0.02895923  0.02895923  0.02895923  0.02895923  0.02895923  0.02895923\n",
      "  0.02895923  0.02895923  0.02895923  0.02895923  0.02894204  0.02894204\n",
      "  0.02894204  0.02894204  0.02894204  0.02894204  0.02894204  0.02894204\n",
      "  0.02894204  0.02894204  0.02892488  0.02892488  0.02892488  0.02892488\n",
      "  0.02892488  0.02892488  0.02892488  0.02892488  0.02892488  0.02892488]\n"
     ]
    }
   ],
   "source": []
  },
  {
   "cell_type": "code",
   "execution_count": 260,
   "metadata": {
    "collapsed": false,
    "scrolled": true
   },
   "outputs": [
    {
     "data": {
      "text/plain": [
       "array([[ 3.06622739,  3.06622739,  3.06622739, ...,  2.88649251,\n",
       "         2.88649251,  2.88649251],\n",
       "       [-1.99634019, -1.99634019, -1.99634019, ..., -1.97731997,\n",
       "        -1.97731997, -1.97731997],\n",
       "       [ 4.00280014,  4.00280014,  4.00280014, ...,  4.01474081,\n",
       "         4.01474081,  4.01474081],\n",
       "       [ 0.03072254,  0.03072254,  0.03072254, ...,  0.02892488,\n",
       "         0.02892488,  0.02892488]])"
      ]
     },
     "execution_count": 260,
     "metadata": {},
     "output_type": "execute_result"
    }
   ],
   "source": [
    "est_right.T"
   ]
  },
  {
   "cell_type": "code",
   "execution_count": null,
   "metadata": {
    "collapsed": true
   },
   "outputs": [],
   "source": []
  }
 ],
 "metadata": {
  "kernelspec": {
   "display_name": "Python 3",
   "language": "python",
   "name": "python3"
  },
  "language_info": {
   "codemirror_mode": {
    "name": "ipython",
    "version": 3
   },
   "file_extension": ".py",
   "mimetype": "text/x-python",
   "name": "python",
   "nbconvert_exporter": "python",
   "pygments_lexer": "ipython3",
   "version": "3.5.1"
  }
 },
 "nbformat": 4,
 "nbformat_minor": 0
}
